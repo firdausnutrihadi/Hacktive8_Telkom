{
 "cells": [
  {
   "cell_type": "markdown",
   "metadata": {},
   "source": [
    "# Regression"
   ]
  },
  {
   "cell_type": "code",
   "execution_count": 1,
   "metadata": {},
   "outputs": [],
   "source": [
    "import numpy as np\n",
    "import matplotlib.pyplot as plt\n",
    "from sklearn.linear_model import LinearRegression\n",
    "\n",
    "%matplotlib inline"
   ]
  },
  {
   "cell_type": "markdown",
   "metadata": {},
   "source": [
    "## Simple Linear Regression"
   ]
  },
  {
   "cell_type": "code",
   "execution_count": 2,
   "metadata": {},
   "outputs": [],
   "source": [
    "x=np.array([5,15,25,35,45,55]).reshape((-1,1))\n",
    "y=np.array([5,20,14,32,22,38])"
   ]
  },
  {
   "cell_type": "code",
   "execution_count": 3,
   "metadata": {},
   "outputs": [
    {
     "data": {
      "text/plain": [
       "(array([[ 5],\n",
       "        [15],\n",
       "        [25],\n",
       "        [35],\n",
       "        [45],\n",
       "        [55]]),\n",
       " array([ 5, 20, 14, 32, 22, 38]))"
      ]
     },
     "execution_count": 3,
     "metadata": {},
     "output_type": "execute_result"
    }
   ],
   "source": [
    "x, y"
   ]
  },
  {
   "cell_type": "code",
   "execution_count": 4,
   "metadata": {},
   "outputs": [],
   "source": [
    "model = LinearRegression()"
   ]
  },
  {
   "cell_type": "code",
   "execution_count": 5,
   "metadata": {},
   "outputs": [
    {
     "data": {
      "text/plain": [
       "LinearRegression()"
      ]
     },
     "execution_count": 5,
     "metadata": {},
     "output_type": "execute_result"
    }
   ],
   "source": [
    "#training fit line\n",
    "model.fit(x,y)"
   ]
  },
  {
   "cell_type": "code",
   "execution_count": 6,
   "metadata": {},
   "outputs": [],
   "source": [
    "#cari tau seberapa bagus representasikan observasi yang kita punya\n",
    "r_sq = model.score(x,y)"
   ]
  },
  {
   "cell_type": "code",
   "execution_count": 7,
   "metadata": {},
   "outputs": [
    {
     "data": {
      "text/plain": [
       "0.715875613747954"
      ]
     },
     "execution_count": 7,
     "metadata": {},
     "output_type": "execute_result"
    }
   ],
   "source": [
    "r_sq"
   ]
  },
  {
   "cell_type": "code",
   "execution_count": 8,
   "metadata": {},
   "outputs": [
    {
     "data": {
      "text/plain": [
       "5.633333333333329"
      ]
     },
     "execution_count": 8,
     "metadata": {},
     "output_type": "execute_result"
    }
   ],
   "source": [
    "#dapaetin b0\n",
    "model.intercept_"
   ]
  },
  {
   "cell_type": "code",
   "execution_count": 9,
   "metadata": {},
   "outputs": [
    {
     "data": {
      "text/plain": [
       "array([0.54])"
      ]
     },
     "execution_count": 9,
     "metadata": {},
     "output_type": "execute_result"
    }
   ],
   "source": [
    "#dapetin b1 atau slope\n",
    "model.coef_"
   ]
  },
  {
   "cell_type": "code",
   "execution_count": 10,
   "metadata": {},
   "outputs": [
    {
     "data": {
      "text/plain": [
       "True"
      ]
     },
     "execution_count": 10,
     "metadata": {},
     "output_type": "execute_result"
    }
   ],
   "source": [
    "model.copy_X"
   ]
  },
  {
   "cell_type": "code",
   "execution_count": 11,
   "metadata": {},
   "outputs": [
    {
     "data": {
      "text/plain": [
       "True"
      ]
     },
     "execution_count": 11,
     "metadata": {},
     "output_type": "execute_result"
    }
   ],
   "source": [
    "model.fit_intercept"
   ]
  },
  {
   "cell_type": "code",
   "execution_count": 12,
   "metadata": {},
   "outputs": [
    {
     "data": {
      "text/plain": [
       "array([38.03333333])"
      ]
     },
     "execution_count": 12,
     "metadata": {},
     "output_type": "execute_result"
    }
   ],
   "source": [
    "model.predict([[60]])"
   ]
  },
  {
   "cell_type": "code",
   "execution_count": 13,
   "metadata": {},
   "outputs": [],
   "source": [
    "#garis prediksi dari data yang ada\n",
    "y_pred = model.predict(x)"
   ]
  },
  {
   "cell_type": "code",
   "execution_count": 14,
   "metadata": {},
   "outputs": [
    {
     "data": {
      "text/plain": [
       "array([ 8.33333333, 13.73333333, 19.13333333, 24.53333333, 29.93333333,\n",
       "       35.33333333])"
      ]
     },
     "execution_count": 14,
     "metadata": {},
     "output_type": "execute_result"
    }
   ],
   "source": [
    "y_pred"
   ]
  },
  {
   "cell_type": "code",
   "execution_count": 15,
   "metadata": {},
   "outputs": [
    {
     "data": {
      "text/plain": [
       "[<matplotlib.lines.Line2D at 0x7fde4c4daac0>]"
      ]
     },
     "execution_count": 15,
     "metadata": {},
     "output_type": "execute_result"
    },
    {
     "data": {
      "image/png": "[encoded data removed]",
      "text/plain": [
       "<Figure size 432x288 with 1 Axes>"
      ]
     },
     "metadata": {
      "needs_background": "light"
     },
     "output_type": "display_data"
    }
   ],
   "source": [
    "plt.scatter(x,y)\n",
    "plt.plot(x,y_pred)"
   ]
  },
  {
   "cell_type": "code",
   "execution_count": 16,
   "metadata": {},
   "outputs": [
    {
     "data": {
      "text/plain": [
       "array([[0],\n",
       "       [1],\n",
       "       [2],\n",
       "       [3],\n",
       "       [4]])"
      ]
     },
     "execution_count": 16,
     "metadata": {},
     "output_type": "execute_result"
    }
   ],
   "source": [
    "x_new = np.arange(5).reshape((-1,1))\n",
    "x_new"
   ]
  },
  {
   "cell_type": "markdown",
   "metadata": {},
   "source": [
    "## Multiple Linear Regression"
   ]
  },
  {
   "cell_type": "code",
   "execution_count": 17,
   "metadata": {},
   "outputs": [],
   "source": [
    "import numpy as np\n",
    "import matplotlib.pyplot as plt\n",
    "from sklearn.linear_model import LinearRegression"
   ]
  },
  {
   "cell_type": "code",
   "execution_count": 18,
   "metadata": {},
   "outputs": [],
   "source": [
    "x=[[0,1],[5,1],[15,2],[25,5],[35,11],[45,15],[55,34],[60,35]]\n",
    "y=[4,5,20,14,32,22,38,43]\n",
    "x,y= np.array(x), np.array(y)"
   ]
  },
  {
   "cell_type": "code",
   "execution_count": 19,
   "metadata": {},
   "outputs": [],
   "source": [
    "model = LinearRegression()"
   ]
  },
  {
   "cell_type": "code",
   "execution_count": 20,
   "metadata": {},
   "outputs": [
    {
     "data": {
      "text/plain": [
       "LinearRegression()"
      ]
     },
     "execution_count": 20,
     "metadata": {},
     "output_type": "execute_result"
    }
   ],
   "source": [
    "model.fit(x,y)"
   ]
  },
  {
   "cell_type": "code",
   "execution_count": 21,
   "metadata": {},
   "outputs": [],
   "source": [
    "r_sq = model.score(x,y)"
   ]
  },
  {
   "cell_type": "code",
   "execution_count": 22,
   "metadata": {},
   "outputs": [
    {
     "name": "stdout",
     "output_type": "stream",
     "text": [
      "0.8615939258756775\n",
      "5.52257927519819\n",
      "[0.44706965 0.25502548]\n"
     ]
    }
   ],
   "source": [
    "print(r_sq)\n",
    "print(model.intercept_)\n",
    "print(model.coef_)"
   ]
  },
  {
   "cell_type": "code",
   "execution_count": 23,
   "metadata": {},
   "outputs": [
    {
     "data": {
      "text/plain": [
       "array([29.76550113])"
      ]
     },
     "execution_count": 23,
     "metadata": {},
     "output_type": "execute_result"
    }
   ],
   "source": [
    "model.predict([[20,60]])"
   ]
  },
  {
   "cell_type": "code",
   "execution_count": 24,
   "metadata": {},
   "outputs": [
    {
     "data": {
      "text/plain": [
       "array([ 5.77760476,  8.012953  , 12.73867497, 17.9744479 , 23.97529728,\n",
       "       29.4660957 , 38.78227633, 41.27265006])"
      ]
     },
     "execution_count": 24,
     "metadata": {},
     "output_type": "execute_result"
    }
   ],
   "source": [
    "#garis prediksi dari data yang ada\n",
    "y_pred = model.predict(x)\n",
    "y_pred"
   ]
  },
  {
   "cell_type": "code",
   "execution_count": 25,
   "metadata": {},
   "outputs": [],
   "source": [
    "x_new=np.arange(10).reshape((-1,2))"
   ]
  },
  {
   "cell_type": "code",
   "execution_count": 26,
   "metadata": {},
   "outputs": [
    {
     "data": {
      "text/plain": [
       "array([ 5.77760476,  7.18179502,  8.58598528,  9.99017554, 11.3943658 ])"
      ]
     },
     "execution_count": 26,
     "metadata": {},
     "output_type": "execute_result"
    }
   ],
   "source": [
    "model.predict(x_new)"
   ]
  },
  {
   "cell_type": "markdown",
   "metadata": {},
   "source": [
    "## Polinomial Regression"
   ]
  },
  {
   "cell_type": "code",
   "execution_count": 27,
   "metadata": {},
   "outputs": [],
   "source": [
    "import numpy as np\n",
    "import matplotlib.pyplot as plt\n",
    "from sklearn.linear_model import LinearRegression\n",
    "from sklearn.preprocessing import PolynomialFeatures"
   ]
  },
  {
   "cell_type": "code",
   "execution_count": 28,
   "metadata": {},
   "outputs": [],
   "source": [
    "x=np.array([5,15,25,35,45,55]).reshape((-1,1))\n",
    "y=np.array([15,11,2,8,25,32])"
   ]
  },
  {
   "cell_type": "code",
   "execution_count": 29,
   "metadata": {},
   "outputs": [
    {
     "data": {
      "text/plain": [
       "(array([[ 5],\n",
       "        [15],\n",
       "        [25],\n",
       "        [35],\n",
       "        [45],\n",
       "        [55]]),\n",
       " array([15, 11,  2,  8, 25, 32]))"
      ]
     },
     "execution_count": 29,
     "metadata": {},
     "output_type": "execute_result"
    }
   ],
   "source": [
    "x,y"
   ]
  },
  {
   "cell_type": "code",
   "execution_count": 30,
   "metadata": {},
   "outputs": [
    {
     "data": {
      "text/plain": [
       "<matplotlib.collections.PathCollection at 0x7fde4c7136d0>"
      ]
     },
     "execution_count": 30,
     "metadata": {},
     "output_type": "execute_result"
    },
    {
     "data": {
      "image/png": "[encoded data removed]",
      "text/plain": [
       "<Figure size 432x288 with 1 Axes>"
      ]
     },
     "metadata": {
      "needs_background": "light"
     },
     "output_type": "display_data"
    }
   ],
   "source": [
    "plt.scatter(x,y)"
   ]
  },
  {
   "cell_type": "code",
   "execution_count": 31,
   "metadata": {},
   "outputs": [],
   "source": [
    "transformer = PolynomialFeatures(include_bias=False)"
   ]
  },
  {
   "cell_type": "code",
   "execution_count": 32,
   "metadata": {},
   "outputs": [
    {
     "data": {
      "text/plain": [
       "PolynomialFeatures(include_bias=False)"
      ]
     },
     "execution_count": 32,
     "metadata": {},
     "output_type": "execute_result"
    }
   ],
   "source": [
    "transformer.fit(x)"
   ]
  },
  {
   "cell_type": "code",
   "execution_count": 33,
   "metadata": {},
   "outputs": [],
   "source": [
    "x_=transformer.transform(x)"
   ]
  },
  {
   "cell_type": "code",
   "execution_count": 34,
   "metadata": {},
   "outputs": [
    {
     "data": {
      "text/plain": [
       "array([[   5.,   25.],\n",
       "       [  15.,  225.],\n",
       "       [  25.,  625.],\n",
       "       [  35., 1225.],\n",
       "       [  45., 2025.],\n",
       "       [  55., 3025.]])"
      ]
     },
     "execution_count": 34,
     "metadata": {},
     "output_type": "execute_result"
    }
   ],
   "source": [
    "x_"
   ]
  },
  {
   "cell_type": "code",
   "execution_count": 35,
   "metadata": {},
   "outputs": [],
   "source": [
    "model = LinearRegression()"
   ]
  },
  {
   "cell_type": "code",
   "execution_count": 36,
   "metadata": {},
   "outputs": [
    {
     "data": {
      "text/plain": [
       "LinearRegression()"
      ]
     },
     "execution_count": 36,
     "metadata": {},
     "output_type": "execute_result"
    }
   ],
   "source": [
    "model.fit(x_,y)"
   ]
  },
  {
   "cell_type": "code",
   "execution_count": 37,
   "metadata": {},
   "outputs": [
    {
     "data": {
      "text/plain": [
       "LinearRegression()"
      ]
     },
     "execution_count": 37,
     "metadata": {},
     "output_type": "execute_result"
    }
   ],
   "source": [
    "LinearRegression()"
   ]
  },
  {
   "cell_type": "code",
   "execution_count": 38,
   "metadata": {},
   "outputs": [
    {
     "data": {
      "text/plain": [
       "0.8908516262498564"
      ]
     },
     "execution_count": 38,
     "metadata": {},
     "output_type": "execute_result"
    }
   ],
   "source": [
    "r_sq=model.score(x_,y)\n",
    "r_sq"
   ]
  },
  {
   "cell_type": "code",
   "execution_count": 39,
   "metadata": {},
   "outputs": [],
   "source": [
    "y_pred = model.predict(x_)"
   ]
  },
  {
   "cell_type": "code",
   "execution_count": 40,
   "metadata": {},
   "outputs": [
    {
     "data": {
      "text/plain": [
       "array([15.46428571,  7.90714286,  6.02857143,  9.82857143, 19.30714286,\n",
       "       34.46428571])"
      ]
     },
     "execution_count": 40,
     "metadata": {},
     "output_type": "execute_result"
    }
   ],
   "source": [
    "y_pred"
   ]
  },
  {
   "cell_type": "code",
   "execution_count": 41,
   "metadata": {},
   "outputs": [
    {
     "data": {
      "text/plain": [
       "[<matplotlib.lines.Line2D at 0x7fde4c777340>]"
      ]
     },
     "execution_count": 41,
     "metadata": {},
     "output_type": "execute_result"
    },
    {
     "data": {
      "image/png": "[encoded data removed]",
      "text/plain": [
       "<Figure size 432x288 with 1 Axes>"
      ]
     },
     "metadata": {
      "needs_background": "light"
     },
     "output_type": "display_data"
    }
   ],
   "source": [
    "plt.scatter(x,y)\n",
    "plt.plot(x, y_pred)"
   ]
  },
  {
   "cell_type": "markdown",
   "metadata": {},
   "source": [
    "## Linear Regression on Real Dataset"
   ]
  },
  {
   "cell_type": "code",
   "execution_count": 47,
   "metadata": {},
   "outputs": [],
   "source": [
    "import pandas as pd"
   ]
  },
  {
   "cell_type": "code",
   "execution_count": 48,
   "metadata": {},
   "outputs": [],
   "source": [
    "from sklearn import datasets"
   ]
  },
  {
   "cell_type": "code",
   "execution_count": 49,
   "metadata": {},
   "outputs": [],
   "source": [
    "data = datasets.load_boston()"
   ]
  },
  {
   "cell_type": "code",
   "execution_count": 50,
   "metadata": {},
   "outputs": [
    {
     "data": {
      "text/plain": [
       "array(['CRIM', 'ZN', 'INDUS', 'CHAS', 'NOX', 'RM', 'AGE', 'DIS', 'RAD',\n",
       "       'TAX', 'PTRATIO', 'B', 'LSTAT'], dtype='<U7')"
      ]
     },
     "execution_count": 50,
     "metadata": {},
     "output_type": "execute_result"
    }
   ],
   "source": [
    "data.feature_names"
   ]
  },
  {
   "cell_type": "code",
   "execution_count": 51,
   "metadata": {},
   "outputs": [
    {
     "data": {
      "text/plain": [
       "array([[6.3200e-03, 1.8000e+01, 2.3100e+00, ..., 1.5300e+01, 3.9690e+02,\n",
       "        4.9800e+00],\n",
       "       [2.7310e-02, 0.0000e+00, 7.0700e+00, ..., 1.7800e+01, 3.9690e+02,\n",
       "        9.1400e+00],\n",
       "       [2.7290e-02, 0.0000e+00, 7.0700e+00, ..., 1.7800e+01, 3.9283e+02,\n",
       "        4.0300e+00],\n",
       "       ...,\n",
       "       [6.0760e-02, 0.0000e+00, 1.1930e+01, ..., 2.1000e+01, 3.9690e+02,\n",
       "        5.6400e+00],\n",
       "       [1.0959e-01, 0.0000e+00, 1.1930e+01, ..., 2.1000e+01, 3.9345e+02,\n",
       "        6.4800e+00],\n",
       "       [4.7410e-02, 0.0000e+00, 1.1930e+01, ..., 2.1000e+01, 3.9690e+02,\n",
       "        7.8800e+00]])"
      ]
     },
     "execution_count": 51,
     "metadata": {},
     "output_type": "execute_result"
    }
   ],
   "source": [
    "data.data"
   ]
  },
  {
   "cell_type": "code",
   "execution_count": 52,
   "metadata": {},
   "outputs": [
    {
     "name": "stdout",
     "output_type": "stream",
     "text": [
      ".. _boston_dataset:\n",
      "\n",
      "Boston house prices dataset\n",
      "---------------------------\n",
      "\n",
      "**Data Set Characteristics:**  \n",
      "\n",
      "    :Number of Instances: 506 \n",
      "\n",
      "    :Number of Attributes: 13 numeric/categorical predictive. Median Value (attribute 14) is usually the target.\n",
      "\n",
      "    :Attribute Information (in order):\n",
      "        - CRIM     per capita crime rate by town\n",
      "        - ZN       proportion of residential land zoned for lots over 25,000 sq.ft.\n",
      "        - INDUS    proportion of non-retail business acres per town\n",
      "        - CHAS     Charles River dummy variable (= 1 if tract bounds river; 0 otherwise)\n",
      "        - NOX      nitric oxides concentration (parts per 10 million)\n",
      "        - RM       average number of rooms per dwelling\n",
      "        - AGE      proportion of owner-occupied units built prior to 1940\n",
      "        - DIS      weighted distances to five Boston employment centres\n",
      "        - RAD      index of accessibility to radial highways\n",
      "        - TAX      full-value property-tax rate per $10,000\n",
      "        - PTRATIO  pupil-teacher ratio by town\n",
      "        - B        1000(Bk - 0.63)^2 where Bk is the proportion of blacks by town\n",
      "        - LSTAT    % lower status of the population\n",
      "        - MEDV     Median value of owner-occupied homes in $1000's\n",
      "\n",
      "    :Missing Attribute Values: None\n",
      "\n",
      "    :Creator: Harrison, D. and Rubinfeld, D.L.\n",
      "\n",
      "This is a copy of UCI ML housing dataset.\n",
      "https://archive.ics.uci.edu/ml/machine-learning-databases/housing/\n",
      "\n",
      "\n",
      "This dataset was taken from the StatLib library which is maintained at Carnegie Mellon University.\n",
      "\n",
      "The Boston house-price data of Harrison, D. and Rubinfeld, D.L. 'Hedonic\n",
      "prices and the demand for clean air', J. Environ. Economics & Management,\n",
      "vol.5, 81-102, 1978.   Used in Belsley, Kuh & Welsch, 'Regression diagnostics\n",
      "...', Wiley, 1980.   N.B. Various transformations are used in the table on\n",
      "pages 244-261 of the latter.\n",
      "\n",
      "The Boston house-price data has been used in many machine learning papers that address regression\n",
      "problems.   \n",
      "     \n",
      ".. topic:: References\n",
      "\n",
      "   - Belsley, Kuh & Welsch, 'Regression diagnostics: Identifying Influential Data and Sources of Collinearity', Wiley, 1980. 244-261.\n",
      "   - Quinlan,R. (1993). Combining Instance-Based and Model-Based Learning. In Proceedings on the Tenth International Conference of Machine Learning, 236-243, University of Massachusetts, Amherst. Morgan Kaufmann.\n",
      "\n"
     ]
    }
   ],
   "source": [
    "print(data.DESCR)"
   ]
  },
  {
   "cell_type": "code",
   "execution_count": 53,
   "metadata": {},
   "outputs": [],
   "source": [
    "df = pd.DataFrame(data.data, columns=data.feature_names)\n",
    "target = pd.DataFrame(data.target, columns=['MEDV'])"
   ]
  },
  {
   "cell_type": "code",
   "execution_count": 54,
   "metadata": {},
   "outputs": [
    {
     "data": {
      "text/html": [
       "<div>\n",
       "<style scoped>\n",
       "    .dataframe tbody tr th:only-of-type {\n",
       "        vertical-align: middle;\n",
       "    }\n",
       "\n",
       "    .dataframe tbody tr th {\n",
       "        vertical-align: top;\n",
       "    }\n",
       "\n",
       "    .dataframe thead th {\n",
       "        text-align: right;\n",
       "    }\n",
       "</style>\n",
       "<table border=\"1\" class=\"dataframe\">\n",
       "  <thead>\n",
       "    <tr style=\"text-align: right;\">\n",
       "      <th></th>\n",
       "      <th>CRIM</th>\n",
       "      <th>ZN</th>\n",
       "      <th>INDUS</th>\n",
       "      <th>CHAS</th>\n",
       "      <th>NOX</th>\n",
       "      <th>RM</th>\n",
       "      <th>AGE</th>\n",
       "      <th>DIS</th>\n",
       "      <th>RAD</th>\n",
       "      <th>TAX</th>\n",
       "      <th>PTRATIO</th>\n",
       "      <th>B</th>\n",
       "      <th>LSTAT</th>\n",
       "    </tr>\n",
       "  </thead>\n",
       "  <tbody>\n",
       "    <tr>\n",
       "      <th>0</th>\n",
       "      <td>0.00632</td>\n",
       "      <td>18.0</td>\n",
       "      <td>2.31</td>\n",
       "      <td>0.0</td>\n",
       "      <td>0.538</td>\n",
       "      <td>6.575</td>\n",
       "      <td>65.2</td>\n",
       "      <td>4.0900</td>\n",
       "      <td>1.0</td>\n",
       "      <td>296.0</td>\n",
       "      <td>15.3</td>\n",
       "      <td>396.90</td>\n",
       "      <td>4.98</td>\n",
       "    </tr>\n",
       "    <tr>\n",
       "      <th>1</th>\n",
       "      <td>0.02731</td>\n",
       "      <td>0.0</td>\n",
       "      <td>7.07</td>\n",
       "      <td>0.0</td>\n",
       "      <td>0.469</td>\n",
       "      <td>6.421</td>\n",
       "      <td>78.9</td>\n",
       "      <td>4.9671</td>\n",
       "      <td>2.0</td>\n",
       "      <td>242.0</td>\n",
       "      <td>17.8</td>\n",
       "      <td>396.90</td>\n",
       "      <td>9.14</td>\n",
       "    </tr>\n",
       "    <tr>\n",
       "      <th>2</th>\n",
       "      <td>0.02729</td>\n",
       "      <td>0.0</td>\n",
       "      <td>7.07</td>\n",
       "      <td>0.0</td>\n",
       "      <td>0.469</td>\n",
       "      <td>7.185</td>\n",
       "      <td>61.1</td>\n",
       "      <td>4.9671</td>\n",
       "      <td>2.0</td>\n",
       "      <td>242.0</td>\n",
       "      <td>17.8</td>\n",
       "      <td>392.83</td>\n",
       "      <td>4.03</td>\n",
       "    </tr>\n",
       "    <tr>\n",
       "      <th>3</th>\n",
       "      <td>0.03237</td>\n",
       "      <td>0.0</td>\n",
       "      <td>2.18</td>\n",
       "      <td>0.0</td>\n",
       "      <td>0.458</td>\n",
       "      <td>6.998</td>\n",
       "      <td>45.8</td>\n",
       "      <td>6.0622</td>\n",
       "      <td>3.0</td>\n",
       "      <td>222.0</td>\n",
       "      <td>18.7</td>\n",
       "      <td>394.63</td>\n",
       "      <td>2.94</td>\n",
       "    </tr>\n",
       "    <tr>\n",
       "      <th>4</th>\n",
       "      <td>0.06905</td>\n",
       "      <td>0.0</td>\n",
       "      <td>2.18</td>\n",
       "      <td>0.0</td>\n",
       "      <td>0.458</td>\n",
       "      <td>7.147</td>\n",
       "      <td>54.2</td>\n",
       "      <td>6.0622</td>\n",
       "      <td>3.0</td>\n",
       "      <td>222.0</td>\n",
       "      <td>18.7</td>\n",
       "      <td>396.90</td>\n",
       "      <td>5.33</td>\n",
       "    </tr>\n",
       "  </tbody>\n",
       "</table>\n",
       "</div>"
      ],
      "text/plain": [
       "      CRIM    ZN  INDUS  CHAS    NOX     RM   AGE     DIS  RAD    TAX  \\\n",
       "0  0.00632  18.0   2.31   0.0  0.538  6.575  65.2  4.0900  1.0  296.0   \n",
       "1  0.02731   0.0   7.07   0.0  0.469  6.421  78.9  4.9671  2.0  242.0   \n",
       "2  0.02729   0.0   7.07   0.0  0.469  7.185  61.1  4.9671  2.0  242.0   \n",
       "3  0.03237   0.0   2.18   0.0  0.458  6.998  45.8  6.0622  3.0  222.0   \n",
       "4  0.06905   0.0   2.18   0.0  0.458  7.147  54.2  6.0622  3.0  222.0   \n",
       "\n",
       "   PTRATIO       B  LSTAT  \n",
       "0     15.3  396.90   4.98  \n",
       "1     17.8  396.90   9.14  \n",
       "2     17.8  392.83   4.03  \n",
       "3     18.7  394.63   2.94  \n",
       "4     18.7  396.90   5.33  "
      ]
     },
     "execution_count": 54,
     "metadata": {},
     "output_type": "execute_result"
    }
   ],
   "source": [
    "df.head()"
   ]
  },
  {
   "cell_type": "code",
   "execution_count": 63,
   "metadata": {},
   "outputs": [
    {
     "data": {
      "text/html": [
       "<div>\n",
       "<style scoped>\n",
       "    .dataframe tbody tr th:only-of-type {\n",
       "        vertical-align: middle;\n",
       "    }\n",
       "\n",
       "    .dataframe tbody tr th {\n",
       "        vertical-align: top;\n",
       "    }\n",
       "\n",
       "    .dataframe thead th {\n",
       "        text-align: right;\n",
       "    }\n",
       "</style>\n",
       "<table border=\"1\" class=\"dataframe\">\n",
       "  <thead>\n",
       "    <tr style=\"text-align: right;\">\n",
       "      <th></th>\n",
       "      <th>MEDV</th>\n",
       "    </tr>\n",
       "  </thead>\n",
       "  <tbody>\n",
       "    <tr>\n",
       "      <th>0</th>\n",
       "      <td>24.0</td>\n",
       "    </tr>\n",
       "    <tr>\n",
       "      <th>1</th>\n",
       "      <td>21.6</td>\n",
       "    </tr>\n",
       "    <tr>\n",
       "      <th>2</th>\n",
       "      <td>34.7</td>\n",
       "    </tr>\n",
       "    <tr>\n",
       "      <th>3</th>\n",
       "      <td>33.4</td>\n",
       "    </tr>\n",
       "    <tr>\n",
       "      <th>4</th>\n",
       "      <td>36.2</td>\n",
       "    </tr>\n",
       "  </tbody>\n",
       "</table>\n",
       "</div>"
      ],
      "text/plain": [
       "   MEDV\n",
       "0  24.0\n",
       "1  21.6\n",
       "2  34.7\n",
       "3  33.4\n",
       "4  36.2"
      ]
     },
     "execution_count": 63,
     "metadata": {},
     "output_type": "execute_result"
    }
   ],
   "source": [
    "target.head()"
   ]
  },
  {
   "cell_type": "code",
   "execution_count": 64,
   "metadata": {},
   "outputs": [],
   "source": [
    "x=df\n",
    "y=target['MEDV']"
   ]
  },
  {
   "cell_type": "code",
   "execution_count": 65,
   "metadata": {},
   "outputs": [],
   "source": [
    "model =LinearRegression()"
   ]
  },
  {
   "cell_type": "code",
   "execution_count": 66,
   "metadata": {},
   "outputs": [
    {
     "data": {
      "text/plain": [
       "LinearRegression()"
      ]
     },
     "execution_count": 66,
     "metadata": {},
     "output_type": "execute_result"
    }
   ],
   "source": [
    "model.fit(x,y)"
   ]
  },
  {
   "cell_type": "code",
   "execution_count": 67,
   "metadata": {},
   "outputs": [
    {
     "data": {
      "text/plain": [
       "0.7406426641094095"
      ]
     },
     "execution_count": 67,
     "metadata": {},
     "output_type": "execute_result"
    }
   ],
   "source": [
    "model.score(x,y)"
   ]
  },
  {
   "cell_type": "code",
   "execution_count": 69,
   "metadata": {},
   "outputs": [
    {
     "data": {
      "text/plain": [
       "array([30.79092598])"
      ]
     },
     "execution_count": 69,
     "metadata": {},
     "output_type": "execute_result"
    }
   ],
   "source": [
    "model.predict([[0.0003,17,3.3,0,0.5,6.7,64,4.5,1.0,296,15,396,5]])"
   ]
  },
  {
   "cell_type": "markdown",
   "metadata": {},
   "source": [
    "### Example 2"
   ]
  },
  {
   "cell_type": "code",
   "execution_count": 70,
   "metadata": {},
   "outputs": [],
   "source": [
    "import pandas as pd\n",
    "import matplotlib.pyplot as plt\n",
    "from sklearn.linear_model import LinearRegression\n",
    "from sklearn.model_selection import train_test_split"
   ]
  },
  {
   "cell_type": "code",
   "execution_count": 71,
   "metadata": {},
   "outputs": [],
   "source": [
    "df = pd.read_csv('dataset/CarPrice_Assignment.csv', usecols=['horsepower', 'price'])"
   ]
  },
  {
   "cell_type": "code",
   "execution_count": 74,
   "metadata": {},
   "outputs": [
    {
     "data": {
      "text/html": [
       "<div>\n",
       "<style scoped>\n",
       "    .dataframe tbody tr th:only-of-type {\n",
       "        vertical-align: middle;\n",
       "    }\n",
       "\n",
       "    .dataframe tbody tr th {\n",
       "        vertical-align: top;\n",
       "    }\n",
       "\n",
       "    .dataframe thead th {\n",
       "        text-align: right;\n",
       "    }\n",
       "</style>\n",
       "<table border=\"1\" class=\"dataframe\">\n",
       "  <thead>\n",
       "    <tr style=\"text-align: right;\">\n",
       "      <th></th>\n",
       "      <th>horsepower</th>\n",
       "      <th>price</th>\n",
       "    </tr>\n",
       "  </thead>\n",
       "  <tbody>\n",
       "    <tr>\n",
       "      <th>0</th>\n",
       "      <td>111</td>\n",
       "      <td>13495.0</td>\n",
       "    </tr>\n",
       "    <tr>\n",
       "      <th>1</th>\n",
       "      <td>111</td>\n",
       "      <td>16500.0</td>\n",
       "    </tr>\n",
       "    <tr>\n",
       "      <th>2</th>\n",
       "      <td>154</td>\n",
       "      <td>16500.0</td>\n",
       "    </tr>\n",
       "    <tr>\n",
       "      <th>3</th>\n",
       "      <td>102</td>\n",
       "      <td>13950.0</td>\n",
       "    </tr>\n",
       "    <tr>\n",
       "      <th>4</th>\n",
       "      <td>115</td>\n",
       "      <td>17450.0</td>\n",
       "    </tr>\n",
       "  </tbody>\n",
       "</table>\n",
       "</div>"
      ],
      "text/plain": [
       "   horsepower    price\n",
       "0         111  13495.0\n",
       "1         111  16500.0\n",
       "2         154  16500.0\n",
       "3         102  13950.0\n",
       "4         115  17450.0"
      ]
     },
     "execution_count": 74,
     "metadata": {},
     "output_type": "execute_result"
    }
   ],
   "source": [
    "df.head()"
   ]
  },
  {
   "cell_type": "code",
   "execution_count": 75,
   "metadata": {},
   "outputs": [
    {
     "data": {
      "text/plain": [
       "(205, 2)"
      ]
     },
     "execution_count": 75,
     "metadata": {},
     "output_type": "execute_result"
    }
   ],
   "source": [
    "df.shape"
   ]
  },
  {
   "cell_type": "code",
   "execution_count": 76,
   "metadata": {},
   "outputs": [
    {
     "data": {
      "text/plain": [
       "<matplotlib.collections.PathCollection at 0x7fde520d49a0>"
      ]
     },
     "execution_count": 76,
     "metadata": {},
     "output_type": "execute_result"
    },
    {
     "data": {
      "image/png": "[encoded data removed]",
      "text/plain": [
       "<Figure size 432x288 with 1 Axes>"
      ]
     },
     "metadata": {
      "needs_background": "light"
     },
     "output_type": "display_data"
    }
   ],
   "source": [
    "plt.scatter(df['horsepower'], df['price'])"
   ]
  },
  {
   "cell_type": "code",
   "execution_count": 77,
   "metadata": {},
   "outputs": [
    {
     "data": {
      "text/html": [
       "<div>\n",
       "<style scoped>\n",
       "    .dataframe tbody tr th:only-of-type {\n",
       "        vertical-align: middle;\n",
       "    }\n",
       "\n",
       "    .dataframe tbody tr th {\n",
       "        vertical-align: top;\n",
       "    }\n",
       "\n",
       "    .dataframe thead th {\n",
       "        text-align: right;\n",
       "    }\n",
       "</style>\n",
       "<table border=\"1\" class=\"dataframe\">\n",
       "  <thead>\n",
       "    <tr style=\"text-align: right;\">\n",
       "      <th></th>\n",
       "      <th>horsepower</th>\n",
       "      <th>price</th>\n",
       "    </tr>\n",
       "  </thead>\n",
       "  <tbody>\n",
       "    <tr>\n",
       "      <th>horsepower</th>\n",
       "      <td>1.000000</td>\n",
       "      <td>0.808139</td>\n",
       "    </tr>\n",
       "    <tr>\n",
       "      <th>price</th>\n",
       "      <td>0.808139</td>\n",
       "      <td>1.000000</td>\n",
       "    </tr>\n",
       "  </tbody>\n",
       "</table>\n",
       "</div>"
      ],
      "text/plain": [
       "            horsepower     price\n",
       "horsepower    1.000000  0.808139\n",
       "price         0.808139  1.000000"
      ]
     },
     "execution_count": 77,
     "metadata": {},
     "output_type": "execute_result"
    }
   ],
   "source": [
    "#korelasi antara jousepower dan price\n",
    "df.corr()"
   ]
  },
  {
   "cell_type": "code",
   "execution_count": 78,
   "metadata": {},
   "outputs": [],
   "source": [
    "x = df['horsepower']\n",
    "y = df['price']"
   ]
  },
  {
   "cell_type": "code",
   "execution_count": 79,
   "metadata": {},
   "outputs": [],
   "source": [
    "x = df['horsepower'].values.reshape(-1,1)\n",
    "y = df['price'].values.reshape(-1,1)"
   ]
  },
  {
   "cell_type": "code",
   "execution_count": 80,
   "metadata": {},
   "outputs": [
    {
     "data": {
      "text/plain": [
       "(array([[111],\n",
       "        [111],\n",
       "        [154],\n",
       "        [102],\n",
       "        [115],\n",
       "        [110],\n",
       "        [110],\n",
       "        [110],\n",
       "        [140],\n",
       "        [160],\n",
       "        [101],\n",
       "        [101],\n",
       "        [121],\n",
       "        [121],\n",
       "        [121],\n",
       "        [182],\n",
       "        [182],\n",
       "        [182],\n",
       "        [ 48],\n",
       "        [ 70],\n",
       "        [ 70],\n",
       "        [ 68],\n",
       "        [ 68],\n",
       "        [102],\n",
       "        [ 68],\n",
       "        [ 68],\n",
       "        [ 68],\n",
       "        [102],\n",
       "        [ 88],\n",
       "        [145],\n",
       "        [ 58],\n",
       "        [ 76],\n",
       "        [ 60],\n",
       "        [ 76],\n",
       "        [ 76],\n",
       "        [ 76],\n",
       "        [ 76],\n",
       "        [ 86],\n",
       "        [ 86],\n",
       "        [ 86],\n",
       "        [ 86],\n",
       "        [101],\n",
       "        [100],\n",
       "        [ 78],\n",
       "        [ 70],\n",
       "        [ 70],\n",
       "        [ 90],\n",
       "        [176],\n",
       "        [176],\n",
       "        [262],\n",
       "        [ 68],\n",
       "        [ 68],\n",
       "        [ 68],\n",
       "        [ 68],\n",
       "        [ 68],\n",
       "        [101],\n",
       "        [101],\n",
       "        [101],\n",
       "        [135],\n",
       "        [ 84],\n",
       "        [ 84],\n",
       "        [ 84],\n",
       "        [ 84],\n",
       "        [ 64],\n",
       "        [ 84],\n",
       "        [120],\n",
       "        [ 72],\n",
       "        [123],\n",
       "        [123],\n",
       "        [123],\n",
       "        [123],\n",
       "        [155],\n",
       "        [155],\n",
       "        [184],\n",
       "        [184],\n",
       "        [175],\n",
       "        [ 68],\n",
       "        [ 68],\n",
       "        [ 68],\n",
       "        [102],\n",
       "        [116],\n",
       "        [ 88],\n",
       "        [145],\n",
       "        [145],\n",
       "        [145],\n",
       "        [ 88],\n",
       "        [ 88],\n",
       "        [116],\n",
       "        [116],\n",
       "        [ 69],\n",
       "        [ 55],\n",
       "        [ 69],\n",
       "        [ 69],\n",
       "        [ 69],\n",
       "        [ 69],\n",
       "        [ 69],\n",
       "        [ 69],\n",
       "        [ 69],\n",
       "        [ 69],\n",
       "        [ 97],\n",
       "        [ 97],\n",
       "        [152],\n",
       "        [152],\n",
       "        [152],\n",
       "        [160],\n",
       "        [200],\n",
       "        [160],\n",
       "        [ 97],\n",
       "        [ 95],\n",
       "        [ 97],\n",
       "        [ 95],\n",
       "        [ 95],\n",
       "        [ 95],\n",
       "        [ 95],\n",
       "        [ 95],\n",
       "        [ 97],\n",
       "        [ 95],\n",
       "        [142],\n",
       "        [ 68],\n",
       "        [102],\n",
       "        [ 68],\n",
       "        [ 68],\n",
       "        [ 68],\n",
       "        [ 88],\n",
       "        [145],\n",
       "        [143],\n",
       "        [207],\n",
       "        [207],\n",
       "        [207],\n",
       "        [288],\n",
       "        [ 90],\n",
       "        [ 90],\n",
       "        [110],\n",
       "        [110],\n",
       "        [110],\n",
       "        [110],\n",
       "        [160],\n",
       "        [160],\n",
       "        [ 69],\n",
       "        [ 73],\n",
       "        [ 73],\n",
       "        [ 82],\n",
       "        [ 82],\n",
       "        [ 94],\n",
       "        [ 82],\n",
       "        [111],\n",
       "        [ 82],\n",
       "        [ 94],\n",
       "        [ 82],\n",
       "        [111],\n",
       "        [ 62],\n",
       "        [ 62],\n",
       "        [ 62],\n",
       "        [ 62],\n",
       "        [ 62],\n",
       "        [ 62],\n",
       "        [ 70],\n",
       "        [ 70],\n",
       "        [ 56],\n",
       "        [ 56],\n",
       "        [ 70],\n",
       "        [ 70],\n",
       "        [ 70],\n",
       "        [ 70],\n",
       "        [ 70],\n",
       "        [112],\n",
       "        [112],\n",
       "        [116],\n",
       "        [116],\n",
       "        [116],\n",
       "        [116],\n",
       "        [116],\n",
       "        [116],\n",
       "        [ 92],\n",
       "        [ 73],\n",
       "        [ 92],\n",
       "        [ 92],\n",
       "        [ 92],\n",
       "        [161],\n",
       "        [161],\n",
       "        [156],\n",
       "        [156],\n",
       "        [ 52],\n",
       "        [ 85],\n",
       "        [ 52],\n",
       "        [ 85],\n",
       "        [ 85],\n",
       "        [ 68],\n",
       "        [100],\n",
       "        [ 90],\n",
       "        [ 90],\n",
       "        [110],\n",
       "        [ 68],\n",
       "        [ 88],\n",
       "        [114],\n",
       "        [114],\n",
       "        [114],\n",
       "        [114],\n",
       "        [162],\n",
       "        [162],\n",
       "        [114],\n",
       "        [160],\n",
       "        [134],\n",
       "        [106],\n",
       "        [114]]),\n",
       " array([[13495.   ],\n",
       "        [16500.   ],\n",
       "        [16500.   ],\n",
       "        [13950.   ],\n",
       "        [17450.   ],\n",
       "        [15250.   ],\n",
       "        [17710.   ],\n",
       "        [18920.   ],\n",
       "        [23875.   ],\n",
       "        [17859.167],\n",
       "        [16430.   ],\n",
       "        [16925.   ],\n",
       "        [20970.   ],\n",
       "        [21105.   ],\n",
       "        [24565.   ],\n",
       "        [30760.   ],\n",
       "        [41315.   ],\n",
       "        [36880.   ],\n",
       "        [ 5151.   ],\n",
       "        [ 6295.   ],\n",
       "        [ 6575.   ],\n",
       "        [ 5572.   ],\n",
       "        [ 6377.   ],\n",
       "        [ 7957.   ],\n",
       "        [ 6229.   ],\n",
       "        [ 6692.   ],\n",
       "        [ 7609.   ],\n",
       "        [ 8558.   ],\n",
       "        [ 8921.   ],\n",
       "        [12964.   ],\n",
       "        [ 6479.   ],\n",
       "        [ 6855.   ],\n",
       "        [ 5399.   ],\n",
       "        [ 6529.   ],\n",
       "        [ 7129.   ],\n",
       "        [ 7295.   ],\n",
       "        [ 7295.   ],\n",
       "        [ 7895.   ],\n",
       "        [ 9095.   ],\n",
       "        [ 8845.   ],\n",
       "        [10295.   ],\n",
       "        [12945.   ],\n",
       "        [10345.   ],\n",
       "        [ 6785.   ],\n",
       "        [ 8916.5  ],\n",
       "        [ 8916.5  ],\n",
       "        [11048.   ],\n",
       "        [32250.   ],\n",
       "        [35550.   ],\n",
       "        [36000.   ],\n",
       "        [ 5195.   ],\n",
       "        [ 6095.   ],\n",
       "        [ 6795.   ],\n",
       "        [ 6695.   ],\n",
       "        [ 7395.   ],\n",
       "        [10945.   ],\n",
       "        [11845.   ],\n",
       "        [13645.   ],\n",
       "        [15645.   ],\n",
       "        [ 8845.   ],\n",
       "        [ 8495.   ],\n",
       "        [10595.   ],\n",
       "        [10245.   ],\n",
       "        [10795.   ],\n",
       "        [11245.   ],\n",
       "        [18280.   ],\n",
       "        [18344.   ],\n",
       "        [25552.   ],\n",
       "        [28248.   ],\n",
       "        [28176.   ],\n",
       "        [31600.   ],\n",
       "        [34184.   ],\n",
       "        [35056.   ],\n",
       "        [40960.   ],\n",
       "        [45400.   ],\n",
       "        [16503.   ],\n",
       "        [ 5389.   ],\n",
       "        [ 6189.   ],\n",
       "        [ 6669.   ],\n",
       "        [ 7689.   ],\n",
       "        [ 9959.   ],\n",
       "        [ 8499.   ],\n",
       "        [12629.   ],\n",
       "        [14869.   ],\n",
       "        [14489.   ],\n",
       "        [ 6989.   ],\n",
       "        [ 8189.   ],\n",
       "        [ 9279.   ],\n",
       "        [ 9279.   ],\n",
       "        [ 5499.   ],\n",
       "        [ 7099.   ],\n",
       "        [ 6649.   ],\n",
       "        [ 6849.   ],\n",
       "        [ 7349.   ],\n",
       "        [ 7299.   ],\n",
       "        [ 7799.   ],\n",
       "        [ 7499.   ],\n",
       "        [ 7999.   ],\n",
       "        [ 8249.   ],\n",
       "        [ 8949.   ],\n",
       "        [ 9549.   ],\n",
       "        [13499.   ],\n",
       "        [14399.   ],\n",
       "        [13499.   ],\n",
       "        [17199.   ],\n",
       "        [19699.   ],\n",
       "        [18399.   ],\n",
       "        [11900.   ],\n",
       "        [13200.   ],\n",
       "        [12440.   ],\n",
       "        [13860.   ],\n",
       "        [15580.   ],\n",
       "        [16900.   ],\n",
       "        [16695.   ],\n",
       "        [17075.   ],\n",
       "        [16630.   ],\n",
       "        [17950.   ],\n",
       "        [18150.   ],\n",
       "        [ 5572.   ],\n",
       "        [ 7957.   ],\n",
       "        [ 6229.   ],\n",
       "        [ 6692.   ],\n",
       "        [ 7609.   ],\n",
       "        [ 8921.   ],\n",
       "        [12764.   ],\n",
       "        [22018.   ],\n",
       "        [32528.   ],\n",
       "        [34028.   ],\n",
       "        [37028.   ],\n",
       "        [31400.5  ],\n",
       "        [ 9295.   ],\n",
       "        [ 9895.   ],\n",
       "        [11850.   ],\n",
       "        [12170.   ],\n",
       "        [15040.   ],\n",
       "        [15510.   ],\n",
       "        [18150.   ],\n",
       "        [18620.   ],\n",
       "        [ 5118.   ],\n",
       "        [ 7053.   ],\n",
       "        [ 7603.   ],\n",
       "        [ 7126.   ],\n",
       "        [ 7775.   ],\n",
       "        [ 9960.   ],\n",
       "        [ 9233.   ],\n",
       "        [11259.   ],\n",
       "        [ 7463.   ],\n",
       "        [10198.   ],\n",
       "        [ 8013.   ],\n",
       "        [11694.   ],\n",
       "        [ 5348.   ],\n",
       "        [ 6338.   ],\n",
       "        [ 6488.   ],\n",
       "        [ 6918.   ],\n",
       "        [ 7898.   ],\n",
       "        [ 8778.   ],\n",
       "        [ 6938.   ],\n",
       "        [ 7198.   ],\n",
       "        [ 7898.   ],\n",
       "        [ 7788.   ],\n",
       "        [ 7738.   ],\n",
       "        [ 8358.   ],\n",
       "        [ 9258.   ],\n",
       "        [ 8058.   ],\n",
       "        [ 8238.   ],\n",
       "        [ 9298.   ],\n",
       "        [ 9538.   ],\n",
       "        [ 8449.   ],\n",
       "        [ 9639.   ],\n",
       "        [ 9989.   ],\n",
       "        [11199.   ],\n",
       "        [11549.   ],\n",
       "        [17669.   ],\n",
       "        [ 8948.   ],\n",
       "        [10698.   ],\n",
       "        [ 9988.   ],\n",
       "        [10898.   ],\n",
       "        [11248.   ],\n",
       "        [16558.   ],\n",
       "        [15998.   ],\n",
       "        [15690.   ],\n",
       "        [15750.   ],\n",
       "        [ 7775.   ],\n",
       "        [ 7975.   ],\n",
       "        [ 7995.   ],\n",
       "        [ 8195.   ],\n",
       "        [ 8495.   ],\n",
       "        [ 9495.   ],\n",
       "        [ 9995.   ],\n",
       "        [11595.   ],\n",
       "        [ 9980.   ],\n",
       "        [13295.   ],\n",
       "        [13845.   ],\n",
       "        [12290.   ],\n",
       "        [12940.   ],\n",
       "        [13415.   ],\n",
       "        [15985.   ],\n",
       "        [16515.   ],\n",
       "        [18420.   ],\n",
       "        [18950.   ],\n",
       "        [16845.   ],\n",
       "        [19045.   ],\n",
       "        [21485.   ],\n",
       "        [22470.   ],\n",
       "        [22625.   ]]))"
      ]
     },
     "execution_count": 80,
     "metadata": {},
     "output_type": "execute_result"
    }
   ],
   "source": [
    "x,y"
   ]
  },
  {
   "cell_type": "code",
   "execution_count": 81,
   "metadata": {},
   "outputs": [
    {
     "data": {
      "text/plain": [
       "[array([[ 70],\n",
       "        [115],\n",
       "        [ 76],\n",
       "        [ 82],\n",
       "        [ 73],\n",
       "        [112],\n",
       "        [160],\n",
       "        [116],\n",
       "        [ 70],\n",
       "        [ 90],\n",
       "        [ 70],\n",
       "        [ 95],\n",
       "        [ 68],\n",
       "        [ 69],\n",
       "        [121],\n",
       "        [145],\n",
       "        [121],\n",
       "        [182],\n",
       "        [110],\n",
       "        [112],\n",
       "        [ 84],\n",
       "        [135],\n",
       "        [160],\n",
       "        [100],\n",
       "        [102],\n",
       "        [ 70],\n",
       "        [140],\n",
       "        [ 68],\n",
       "        [ 86],\n",
       "        [175],\n",
       "        [152],\n",
       "        [ 92],\n",
       "        [162],\n",
       "        [114],\n",
       "        [ 85],\n",
       "        [ 68],\n",
       "        [ 95],\n",
       "        [ 92],\n",
       "        [ 52],\n",
       "        [106],\n",
       "        [143],\n",
       "        [ 72],\n",
       "        [111],\n",
       "        [160],\n",
       "        [123],\n",
       "        [ 82],\n",
       "        [ 90],\n",
       "        [ 95],\n",
       "        [ 86],\n",
       "        [ 88],\n",
       "        [110],\n",
       "        [152],\n",
       "        [ 84],\n",
       "        [110],\n",
       "        [160],\n",
       "        [ 62],\n",
       "        [ 55],\n",
       "        [ 84],\n",
       "        [ 69],\n",
       "        [120],\n",
       "        [101],\n",
       "        [101],\n",
       "        [ 90],\n",
       "        [ 69],\n",
       "        [102],\n",
       "        [110],\n",
       "        [207],\n",
       "        [ 68],\n",
       "        [100],\n",
       "        [ 76],\n",
       "        [ 68],\n",
       "        [ 73],\n",
       "        [116],\n",
       "        [ 68],\n",
       "        [114],\n",
       "        [114],\n",
       "        [ 69],\n",
       "        [ 82],\n",
       "        [145],\n",
       "        [142],\n",
       "        [114],\n",
       "        [ 68],\n",
       "        [ 69],\n",
       "        [ 62],\n",
       "        [116],\n",
       "        [ 62],\n",
       "        [ 70],\n",
       "        [123],\n",
       "        [ 62],\n",
       "        [110],\n",
       "        [ 76],\n",
       "        [116],\n",
       "        [ 70],\n",
       "        [262],\n",
       "        [ 94],\n",
       "        [161],\n",
       "        [116],\n",
       "        [ 69],\n",
       "        [ 86],\n",
       "        [145],\n",
       "        [ 68],\n",
       "        [ 68],\n",
       "        [ 88],\n",
       "        [116],\n",
       "        [156],\n",
       "        [ 68],\n",
       "        [182],\n",
       "        [207],\n",
       "        [110],\n",
       "        [ 84],\n",
       "        [ 95],\n",
       "        [160],\n",
       "        [102],\n",
       "        [ 97],\n",
       "        [176],\n",
       "        [ 64],\n",
       "        [ 60],\n",
       "        [ 70],\n",
       "        [155],\n",
       "        [162],\n",
       "        [110],\n",
       "        [ 85],\n",
       "        [ 97],\n",
       "        [ 82],\n",
       "        [ 92],\n",
       "        [ 68],\n",
       "        [ 62],\n",
       "        [161],\n",
       "        [134],\n",
       "        [ 56],\n",
       "        [ 68],\n",
       "        [111],\n",
       "        [111],\n",
       "        [ 95],\n",
       "        [111],\n",
       "        [ 62],\n",
       "        [ 69],\n",
       "        [182],\n",
       "        [123],\n",
       "        [102],\n",
       "        [ 94],\n",
       "        [184],\n",
       "        [ 52],\n",
       "        [ 70],\n",
       "        [102],\n",
       "        [207],\n",
       "        [ 69],\n",
       "        [116],\n",
       "        [ 48],\n",
       "        [ 70],\n",
       "        [ 68],\n",
       "        [114],\n",
       "        [ 85],\n",
       "        [ 95],\n",
       "        [ 76],\n",
       "        [156],\n",
       "        [101],\n",
       "        [160],\n",
       "        [184],\n",
       "        [ 88],\n",
       "        [123],\n",
       "        [ 88],\n",
       "        [ 95],\n",
       "        [ 86]]),\n",
       " array([[101],\n",
       "        [ 68],\n",
       "        [200],\n",
       "        [ 92],\n",
       "        [ 76],\n",
       "        [ 68],\n",
       "        [ 73],\n",
       "        [155],\n",
       "        [ 84],\n",
       "        [ 88],\n",
       "        [ 88],\n",
       "        [152],\n",
       "        [101],\n",
       "        [ 69],\n",
       "        [145],\n",
       "        [116],\n",
       "        [ 97],\n",
       "        [ 78],\n",
       "        [ 56],\n",
       "        [ 70],\n",
       "        [101],\n",
       "        [116],\n",
       "        [114],\n",
       "        [288],\n",
       "        [176],\n",
       "        [ 68],\n",
       "        [ 68],\n",
       "        [145],\n",
       "        [ 97],\n",
       "        [ 69],\n",
       "        [110],\n",
       "        [ 58],\n",
       "        [ 90],\n",
       "        [ 68],\n",
       "        [ 68],\n",
       "        [ 82],\n",
       "        [154],\n",
       "        [ 97],\n",
       "        [ 90],\n",
       "        [ 70],\n",
       "        [121]]),\n",
       " array([[ 8058.   ],\n",
       "        [17450.   ],\n",
       "        [ 6855.   ],\n",
       "        [ 7126.   ],\n",
       "        [ 7603.   ],\n",
       "        [ 9538.   ],\n",
       "        [17199.   ],\n",
       "        [ 9639.   ],\n",
       "        [ 6295.   ],\n",
       "        [ 9295.   ],\n",
       "        [ 8916.5  ],\n",
       "        [15580.   ],\n",
       "        [ 6229.   ],\n",
       "        [ 5118.   ],\n",
       "        [20970.   ],\n",
       "        [12629.   ],\n",
       "        [24565.   ],\n",
       "        [30760.   ],\n",
       "        [17710.   ],\n",
       "        [ 9298.   ],\n",
       "        [10595.   ],\n",
       "        [15645.   ],\n",
       "        [18399.   ],\n",
       "        [ 9995.   ],\n",
       "        [ 7689.   ],\n",
       "        [ 6938.   ],\n",
       "        [23875.   ],\n",
       "        [ 6795.   ],\n",
       "        [ 7895.   ],\n",
       "        [16503.   ],\n",
       "        [13499.   ],\n",
       "        [ 9988.   ],\n",
       "        [18420.   ],\n",
       "        [16515.   ],\n",
       "        [ 7975.   ],\n",
       "        [ 7395.   ],\n",
       "        [13200.   ],\n",
       "        [10898.   ],\n",
       "        [ 7995.   ],\n",
       "        [22470.   ],\n",
       "        [22018.   ],\n",
       "        [18344.   ],\n",
       "        [16500.   ],\n",
       "        [19045.   ],\n",
       "        [25552.   ],\n",
       "        [ 8013.   ],\n",
       "        [11595.   ],\n",
       "        [16900.   ],\n",
       "        [ 9095.   ],\n",
       "        [ 8921.   ],\n",
       "        [15040.   ],\n",
       "        [14399.   ],\n",
       "        [ 8845.   ],\n",
       "        [18920.   ],\n",
       "        [17859.167],\n",
       "        [ 7898.   ],\n",
       "        [ 7099.   ],\n",
       "        [ 8495.   ],\n",
       "        [ 8249.   ],\n",
       "        [18280.   ],\n",
       "        [16925.   ],\n",
       "        [11845.   ],\n",
       "        [11048.   ],\n",
       "        [ 7799.   ],\n",
       "        [13950.   ],\n",
       "        [15250.   ],\n",
       "        [34028.   ],\n",
       "        [ 6377.   ],\n",
       "        [10345.   ],\n",
       "        [ 7129.   ],\n",
       "        [ 7609.   ],\n",
       "        [10698.   ],\n",
       "        [ 8449.   ],\n",
       "        [ 6695.   ],\n",
       "        [22625.   ],\n",
       "        [16845.   ],\n",
       "        [ 7999.   ],\n",
       "        [ 9233.   ],\n",
       "        [12764.   ],\n",
       "        [18150.   ],\n",
       "        [15985.   ],\n",
       "        [ 5389.   ],\n",
       "        [ 7499.   ],\n",
       "        [ 6488.   ],\n",
       "        [ 9279.   ],\n",
       "        [ 6338.   ],\n",
       "        [ 9258.   ],\n",
       "        [28176.   ],\n",
       "        [ 6918.   ],\n",
       "        [13295.   ],\n",
       "        [ 6529.   ],\n",
       "        [11199.   ],\n",
       "        [ 7738.   ],\n",
       "        [36000.   ],\n",
       "        [10198.   ],\n",
       "        [16558.   ],\n",
       "        [ 9959.   ],\n",
       "        [ 7299.   ],\n",
       "        [ 8845.   ],\n",
       "        [14489.   ],\n",
       "        [ 7609.   ],\n",
       "        [ 6189.   ],\n",
       "        [12290.   ],\n",
       "        [ 9279.   ],\n",
       "        [15750.   ],\n",
       "        [ 6229.   ],\n",
       "        [36880.   ],\n",
       "        [37028.   ],\n",
       "        [12170.   ],\n",
       "        [10245.   ],\n",
       "        [13860.   ],\n",
       "        [18620.   ],\n",
       "        [ 8558.   ],\n",
       "        [16630.   ],\n",
       "        [32250.   ],\n",
       "        [10795.   ],\n",
       "        [ 5399.   ],\n",
       "        [ 8238.   ],\n",
       "        [34184.   ],\n",
       "        [18950.   ],\n",
       "        [11850.   ],\n",
       "        [ 8195.   ],\n",
       "        [ 8949.   ],\n",
       "        [ 7463.   ],\n",
       "        [ 8948.   ],\n",
       "        [13845.   ],\n",
       "        [ 8778.   ],\n",
       "        [15998.   ],\n",
       "        [21485.   ],\n",
       "        [ 7898.   ],\n",
       "        [ 6669.   ],\n",
       "        [13495.   ],\n",
       "        [11694.   ],\n",
       "        [16695.   ],\n",
       "        [11259.   ],\n",
       "        [ 5348.   ],\n",
       "        [ 5499.   ],\n",
       "        [41315.   ],\n",
       "        [28248.   ],\n",
       "        [ 7957.   ],\n",
       "        [ 9960.   ],\n",
       "        [40960.   ],\n",
       "        [ 7775.   ],\n",
       "        [ 8358.   ],\n",
       "        [ 7957.   ],\n",
       "        [32528.   ],\n",
       "        [ 6649.   ],\n",
       "        [17669.   ],\n",
       "        [ 5151.   ],\n",
       "        [ 8916.5  ],\n",
       "        [ 6095.   ],\n",
       "        [13415.   ],\n",
       "        [ 8495.   ],\n",
       "        [17075.   ],\n",
       "        [ 7295.   ],\n",
       "        [15690.   ],\n",
       "        [16430.   ],\n",
       "        [18150.   ],\n",
       "        [45400.   ],\n",
       "        [ 6989.   ],\n",
       "        [31600.   ],\n",
       "        [ 8189.   ],\n",
       "        [17950.   ],\n",
       "        [10295.   ]]),\n",
       " array([[12945. ],\n",
       "        [ 9495. ],\n",
       "        [19699. ],\n",
       "        [11248. ],\n",
       "        [ 7295. ],\n",
       "        [ 5572. ],\n",
       "        [ 7053. ],\n",
       "        [35056. ],\n",
       "        [11245. ],\n",
       "        [ 8499. ],\n",
       "        [ 8921. ],\n",
       "        [13499. ],\n",
       "        [13645. ],\n",
       "        [ 7349. ],\n",
       "        [12964. ],\n",
       "        [ 9989. ],\n",
       "        [11900. ],\n",
       "        [ 6785. ],\n",
       "        [ 7788. ],\n",
       "        [ 7198. ],\n",
       "        [10945. ],\n",
       "        [11549. ],\n",
       "        [12940. ],\n",
       "        [31400.5],\n",
       "        [35550. ],\n",
       "        [ 6692. ],\n",
       "        [ 6692. ],\n",
       "        [14869. ],\n",
       "        [12440. ],\n",
       "        [ 6849. ],\n",
       "        [15510. ],\n",
       "        [ 6479. ],\n",
       "        [ 9980. ],\n",
       "        [ 5572. ],\n",
       "        [ 5195. ],\n",
       "        [ 7775. ],\n",
       "        [16500. ],\n",
       "        [ 9549. ],\n",
       "        [ 9895. ],\n",
       "        [ 6575. ],\n",
       "        [21105. ]])]"
      ]
     },
     "execution_count": 81,
     "metadata": {},
     "output_type": "execute_result"
    }
   ],
   "source": [
    "train_test_split(x,y,test_size=0.2)"
   ]
  },
  {
   "cell_type": "code",
   "execution_count": 92,
   "metadata": {},
   "outputs": [],
   "source": [
    "x_train, x_test, y_train, y_test = train_test_split(x,y,test_size=0.2)"
   ]
  },
  {
   "cell_type": "code",
   "execution_count": 93,
   "metadata": {},
   "outputs": [
    {
     "data": {
      "text/plain": [
       "((164, 1), (41, 1))"
      ]
     },
     "execution_count": 93,
     "metadata": {},
     "output_type": "execute_result"
    }
   ],
   "source": [
    "(x_train.shape, x_test.shape)"
   ]
  },
  {
   "cell_type": "code",
   "execution_count": 94,
   "metadata": {},
   "outputs": [],
   "source": [
    "model = LinearRegression()"
   ]
  },
  {
   "cell_type": "code",
   "execution_count": 95,
   "metadata": {},
   "outputs": [
    {
     "data": {
      "text/plain": [
       "LinearRegression()"
      ]
     },
     "execution_count": 95,
     "metadata": {},
     "output_type": "execute_result"
    }
   ],
   "source": [
    "model.fit(x_train, y_train)"
   ]
  },
  {
   "cell_type": "code",
   "execution_count": 96,
   "metadata": {},
   "outputs": [
    {
     "data": {
      "text/plain": [
       "0.510244694377207"
      ]
     },
     "execution_count": 96,
     "metadata": {},
     "output_type": "execute_result"
    }
   ],
   "source": [
    "model.score(x_test, y_test)"
   ]
  },
  {
   "cell_type": "code",
   "execution_count": 97,
   "metadata": {},
   "outputs": [],
   "source": [
    "y_pred = model.predict(x_test)"
   ]
  },
  {
   "cell_type": "code",
   "execution_count": 98,
   "metadata": {},
   "outputs": [
    {
     "data": {
      "text/plain": [
       "[<matplotlib.lines.Line2D at 0x7fde52d59a30>]"
      ]
     },
     "execution_count": 98,
     "metadata": {},
     "output_type": "execute_result"
    },
    {
     "data": {
      "image/png": "[encoded data removed]",
      "text/plain": [
       "<Figure size 432x288 with 1 Axes>"
      ]
     },
     "metadata": {
      "needs_background": "light"
     },
     "output_type": "display_data"
    }
   ],
   "source": [
    "plt.scatter(x_test, y_test)\n",
    "plt.plot(x_test, y_pred)"
   ]
  },
  {
   "cell_type": "code",
   "execution_count": 99,
   "metadata": {},
   "outputs": [
    {
     "data": {
      "text/plain": [
       "array([[12680.85385507]])"
      ]
     },
     "execution_count": 99,
     "metadata": {},
     "output_type": "execute_result"
    }
   ],
   "source": [
    "model.predict([[100]])"
   ]
  },
  {
   "cell_type": "code",
   "execution_count": null,
   "metadata": {},
   "outputs": [],
   "source": []
  }
 ],
 "metadata": {
  "kernelspec": {
   "display_name": "Python 3",
   "language": "python",
   "name": "python3"
  },
  "language_info": {
   "codemirror_mode": {
    "name": "ipython",
    "version": 3
   },
   "file_extension": ".py",
   "mimetype": "text/x-python",
   "name": "python",
   "nbconvert_exporter": "python",
   "pygments_lexer": "ipython3",
   "version": "3.8.3"
  }
 },
 "nbformat": 4,
 "nbformat_minor": 4
}
