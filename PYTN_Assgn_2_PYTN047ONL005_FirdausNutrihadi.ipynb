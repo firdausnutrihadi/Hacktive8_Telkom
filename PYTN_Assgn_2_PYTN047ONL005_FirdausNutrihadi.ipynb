{
 "cells": [
  {
   "cell_type": "code",
   "execution_count": 2,
   "metadata": {},
   "outputs": [],
   "source": [
    "import math\n",
    "import statistics\n",
    "import numpy as np\n",
    "import scipy.stats\n",
    "import pandas as pd\n",
    "import matplotlib.pyplot as plt\n",
    "import seaborn as sns\n",
    "\n",
    "\n",
    "\n",
    "sns.set(rc = {'figure.figsize':(5,5)})\n",
    "\n",
    "%matplotlib inline"
   ]
  },
  {
   "cell_type": "code",
   "execution_count": 3,
   "metadata": {},
   "outputs": [],
   "source": [
    "feedback_elearning = pd.read_csv('dataset/Feedback_ELearn_2020.csv')"
   ]
  },
  {
   "cell_type": "code",
   "execution_count": 4,
   "metadata": {},
   "outputs": [
    {
     "data": {
      "text/html": [
       "<div>\n",
       "<style scoped>\n",
       "    .dataframe tbody tr th:only-of-type {\n",
       "        vertical-align: middle;\n",
       "    }\n",
       "\n",
       "    .dataframe tbody tr th {\n",
       "        vertical-align: top;\n",
       "    }\n",
       "\n",
       "    .dataframe thead th {\n",
       "        text-align: right;\n",
       "    }\n",
       "</style>\n",
       "<table border=\"1\" class=\"dataframe\">\n",
       "  <thead>\n",
       "    <tr style=\"text-align: right;\">\n",
       "      <th></th>\n",
       "      <th>Bulan</th>\n",
       "      <th>Course</th>\n",
       "      <th>Category</th>\n",
       "      <th>Jumlah Partisipan</th>\n",
       "      <th>Kecepatan pelayanan</th>\n",
       "      <th>Kemudahan fungsi fungsi untuk digunakan</th>\n",
       "      <th>Kemudahan nama situs untuk diingat</th>\n",
       "      <th>Kemudahan situs untuk dipahami</th>\n",
       "      <th>Kemudahan untuk dihubungi</th>\n",
       "      <th>Kemudahan untuk dipahami</th>\n",
       "      <th>Kenyamanan dalam mempelajari materi</th>\n",
       "      <th>Keramahan petugas</th>\n",
       "      <th>Manfaat terhadap tugas</th>\n",
       "      <th>Pengetahuan terhadap situs</th>\n",
       "      <th>Sistematika Penulisan</th>\n",
       "      <th>Tampilan situs</th>\n",
       "      <th>Final Score</th>\n",
       "    </tr>\n",
       "  </thead>\n",
       "  <tbody>\n",
       "    <tr>\n",
       "      <th>0</th>\n",
       "      <td>1</td>\n",
       "      <td>Fraud Klaim Asuransi</td>\n",
       "      <td>ADMEDIKA</td>\n",
       "      <td>1</td>\n",
       "      <td>100.00</td>\n",
       "      <td>100.00</td>\n",
       "      <td>0.00</td>\n",
       "      <td>100.00</td>\n",
       "      <td>100.00</td>\n",
       "      <td>70.00</td>\n",
       "      <td>100.00</td>\n",
       "      <td>100.00</td>\n",
       "      <td>100.00</td>\n",
       "      <td>100.00</td>\n",
       "      <td>100.00</td>\n",
       "      <td>100.00</td>\n",
       "      <td>89.17</td>\n",
       "    </tr>\n",
       "    <tr>\n",
       "      <th>1</th>\n",
       "      <td>1</td>\n",
       "      <td>Basic Procurement</td>\n",
       "      <td>Business Enabler / Enterprise Management (EL-EEM)</td>\n",
       "      <td>1</td>\n",
       "      <td>100.00</td>\n",
       "      <td>100.00</td>\n",
       "      <td>100.00</td>\n",
       "      <td>100.00</td>\n",
       "      <td>100.00</td>\n",
       "      <td>100.00</td>\n",
       "      <td>100.00</td>\n",
       "      <td>100.00</td>\n",
       "      <td>100.00</td>\n",
       "      <td>100.00</td>\n",
       "      <td>100.00</td>\n",
       "      <td>100.00</td>\n",
       "      <td>100.00</td>\n",
       "    </tr>\n",
       "    <tr>\n",
       "      <th>2</th>\n",
       "      <td>1</td>\n",
       "      <td>Paradigma Spiritual</td>\n",
       "      <td>Business Enabler / Enterprise Management (EL-EEM)</td>\n",
       "      <td>4</td>\n",
       "      <td>91.25</td>\n",
       "      <td>91.25</td>\n",
       "      <td>91.25</td>\n",
       "      <td>91.25</td>\n",
       "      <td>91.25</td>\n",
       "      <td>91.25</td>\n",
       "      <td>90.67</td>\n",
       "      <td>91.25</td>\n",
       "      <td>91.25</td>\n",
       "      <td>91.25</td>\n",
       "      <td>91.25</td>\n",
       "      <td>91.25</td>\n",
       "      <td>91.20</td>\n",
       "    </tr>\n",
       "    <tr>\n",
       "      <th>3</th>\n",
       "      <td>1</td>\n",
       "      <td>PMBOK</td>\n",
       "      <td>Business Enabler / Enterprise Management (EL-EEM)</td>\n",
       "      <td>10</td>\n",
       "      <td>88.11</td>\n",
       "      <td>87.43</td>\n",
       "      <td>89.47</td>\n",
       "      <td>88.11</td>\n",
       "      <td>89.47</td>\n",
       "      <td>88.11</td>\n",
       "      <td>86.67</td>\n",
       "      <td>88.95</td>\n",
       "      <td>91.50</td>\n",
       "      <td>89.47</td>\n",
       "      <td>87.78</td>\n",
       "      <td>88.33</td>\n",
       "      <td>88.62</td>\n",
       "    </tr>\n",
       "    <tr>\n",
       "      <th>4</th>\n",
       "      <td>1</td>\n",
       "      <td>Spiritual (Islam) Bekerja Ma allah</td>\n",
       "      <td>Business Enabler / Enterprise Management (EL-EEM)</td>\n",
       "      <td>2</td>\n",
       "      <td>90.00</td>\n",
       "      <td>90.00</td>\n",
       "      <td>90.00</td>\n",
       "      <td>90.00</td>\n",
       "      <td>90.00</td>\n",
       "      <td>90.00</td>\n",
       "      <td>90.00</td>\n",
       "      <td>90.00</td>\n",
       "      <td>90.00</td>\n",
       "      <td>90.00</td>\n",
       "      <td>90.00</td>\n",
       "      <td>90.00</td>\n",
       "      <td>90.00</td>\n",
       "    </tr>\n",
       "  </tbody>\n",
       "</table>\n",
       "</div>"
      ],
      "text/plain": [
       "   Bulan                              Course  \\\n",
       "0      1                Fraud Klaim Asuransi   \n",
       "1      1                   Basic Procurement   \n",
       "2      1                 Paradigma Spiritual   \n",
       "3      1                               PMBOK   \n",
       "4      1  Spiritual (Islam) Bekerja Ma allah   \n",
       "\n",
       "                                            Category Jumlah Partisipan  \\\n",
       "0                                           ADMEDIKA                 1   \n",
       "1  Business Enabler / Enterprise Management (EL-EEM)                 1   \n",
       "2  Business Enabler / Enterprise Management (EL-EEM)                 4   \n",
       "3  Business Enabler / Enterprise Management (EL-EEM)                10   \n",
       "4  Business Enabler / Enterprise Management (EL-EEM)                 2   \n",
       "\n",
       "   Kecepatan pelayanan  Kemudahan fungsi fungsi untuk digunakan  \\\n",
       "0               100.00                                   100.00   \n",
       "1               100.00                                   100.00   \n",
       "2                91.25                                    91.25   \n",
       "3                88.11                                    87.43   \n",
       "4                90.00                                    90.00   \n",
       "\n",
       "   Kemudahan nama situs untuk diingat  Kemudahan situs untuk dipahami  \\\n",
       "0                                0.00                          100.00   \n",
       "1                              100.00                          100.00   \n",
       "2                               91.25                           91.25   \n",
       "3                               89.47                           88.11   \n",
       "4                               90.00                           90.00   \n",
       "\n",
       "   Kemudahan untuk dihubungi  Kemudahan untuk dipahami  \\\n",
       "0                     100.00                     70.00   \n",
       "1                     100.00                    100.00   \n",
       "2                      91.25                     91.25   \n",
       "3                      89.47                     88.11   \n",
       "4                      90.00                     90.00   \n",
       "\n",
       "   Kenyamanan dalam mempelajari materi  Keramahan petugas  \\\n",
       "0                               100.00             100.00   \n",
       "1                               100.00             100.00   \n",
       "2                                90.67              91.25   \n",
       "3                                86.67              88.95   \n",
       "4                                90.00              90.00   \n",
       "\n",
       "   Manfaat terhadap tugas  Pengetahuan terhadap situs  Sistematika Penulisan  \\\n",
       "0                  100.00                      100.00                 100.00   \n",
       "1                  100.00                      100.00                 100.00   \n",
       "2                   91.25                       91.25                  91.25   \n",
       "3                   91.50                       89.47                  87.78   \n",
       "4                   90.00                       90.00                  90.00   \n",
       "\n",
       "   Tampilan situs  Final Score  \n",
       "0          100.00        89.17  \n",
       "1          100.00       100.00  \n",
       "2           91.25        91.20  \n",
       "3           88.33        88.62  \n",
       "4           90.00        90.00  "
      ]
     },
     "execution_count": 4,
     "metadata": {},
     "output_type": "execute_result"
    }
   ],
   "source": [
    "feedback_elearning.head()"
   ]
  },
  {
   "cell_type": "code",
   "execution_count": 5,
   "metadata": {},
   "outputs": [
    {
     "data": {
      "text/html": [
       "<div>\n",
       "<style scoped>\n",
       "    .dataframe tbody tr th:only-of-type {\n",
       "        vertical-align: middle;\n",
       "    }\n",
       "\n",
       "    .dataframe tbody tr th {\n",
       "        vertical-align: top;\n",
       "    }\n",
       "\n",
       "    .dataframe thead th {\n",
       "        text-align: right;\n",
       "    }\n",
       "</style>\n",
       "<table border=\"1\" class=\"dataframe\">\n",
       "  <thead>\n",
       "    <tr style=\"text-align: right;\">\n",
       "      <th></th>\n",
       "      <th>Bulan</th>\n",
       "      <th>Kecepatan pelayanan</th>\n",
       "      <th>Kemudahan fungsi fungsi untuk digunakan</th>\n",
       "      <th>Kemudahan nama situs untuk diingat</th>\n",
       "      <th>Kemudahan situs untuk dipahami</th>\n",
       "      <th>Kemudahan untuk dihubungi</th>\n",
       "      <th>Kemudahan untuk dipahami</th>\n",
       "      <th>Kenyamanan dalam mempelajari materi</th>\n",
       "      <th>Keramahan petugas</th>\n",
       "      <th>Manfaat terhadap tugas</th>\n",
       "      <th>Pengetahuan terhadap situs</th>\n",
       "      <th>Sistematika Penulisan</th>\n",
       "      <th>Tampilan situs</th>\n",
       "      <th>Final Score</th>\n",
       "    </tr>\n",
       "  </thead>\n",
       "  <tbody>\n",
       "    <tr>\n",
       "      <th>count</th>\n",
       "      <td>2570.000000</td>\n",
       "      <td>2570.000000</td>\n",
       "      <td>2570.000000</td>\n",
       "      <td>2570.000000</td>\n",
       "      <td>2570.000000</td>\n",
       "      <td>2570.000000</td>\n",
       "      <td>2570.000000</td>\n",
       "      <td>2570.000000</td>\n",
       "      <td>2570.000000</td>\n",
       "      <td>2570.000000</td>\n",
       "      <td>2570.000000</td>\n",
       "      <td>2570.000000</td>\n",
       "      <td>2570.000000</td>\n",
       "      <td>2570.000000</td>\n",
       "    </tr>\n",
       "    <tr>\n",
       "      <th>mean</th>\n",
       "      <td>6.439300</td>\n",
       "      <td>90.758101</td>\n",
       "      <td>91.196537</td>\n",
       "      <td>91.322401</td>\n",
       "      <td>89.169798</td>\n",
       "      <td>90.777977</td>\n",
       "      <td>91.609374</td>\n",
       "      <td>91.112926</td>\n",
       "      <td>90.899541</td>\n",
       "      <td>92.330510</td>\n",
       "      <td>90.899152</td>\n",
       "      <td>91.903323</td>\n",
       "      <td>91.051074</td>\n",
       "      <td>91.086257</td>\n",
       "    </tr>\n",
       "    <tr>\n",
       "      <th>std</th>\n",
       "      <td>3.017855</td>\n",
       "      <td>11.371856</td>\n",
       "      <td>10.163694</td>\n",
       "      <td>10.244177</td>\n",
       "      <td>17.598739</td>\n",
       "      <td>11.106859</td>\n",
       "      <td>9.070625</td>\n",
       "      <td>9.975912</td>\n",
       "      <td>10.950328</td>\n",
       "      <td>5.845252</td>\n",
       "      <td>10.819960</td>\n",
       "      <td>6.055594</td>\n",
       "      <td>10.348712</td>\n",
       "      <td>8.908971</td>\n",
       "    </tr>\n",
       "    <tr>\n",
       "      <th>min</th>\n",
       "      <td>1.000000</td>\n",
       "      <td>0.000000</td>\n",
       "      <td>0.000000</td>\n",
       "      <td>0.000000</td>\n",
       "      <td>0.000000</td>\n",
       "      <td>0.000000</td>\n",
       "      <td>0.000000</td>\n",
       "      <td>0.000000</td>\n",
       "      <td>0.000000</td>\n",
       "      <td>60.000000</td>\n",
       "      <td>0.000000</td>\n",
       "      <td>60.000000</td>\n",
       "      <td>0.000000</td>\n",
       "      <td>13.330000</td>\n",
       "    </tr>\n",
       "    <tr>\n",
       "      <th>25%</th>\n",
       "      <td>4.000000</td>\n",
       "      <td>90.000000</td>\n",
       "      <td>90.000000</td>\n",
       "      <td>90.000000</td>\n",
       "      <td>90.000000</td>\n",
       "      <td>90.000000</td>\n",
       "      <td>90.000000</td>\n",
       "      <td>90.000000</td>\n",
       "      <td>90.000000</td>\n",
       "      <td>90.000000</td>\n",
       "      <td>90.000000</td>\n",
       "      <td>90.000000</td>\n",
       "      <td>90.000000</td>\n",
       "      <td>90.000000</td>\n",
       "    </tr>\n",
       "    <tr>\n",
       "      <th>50%</th>\n",
       "      <td>6.000000</td>\n",
       "      <td>91.685000</td>\n",
       "      <td>91.990000</td>\n",
       "      <td>92.160000</td>\n",
       "      <td>92.060000</td>\n",
       "      <td>91.640000</td>\n",
       "      <td>92.380000</td>\n",
       "      <td>92.055000</td>\n",
       "      <td>91.795000</td>\n",
       "      <td>92.550000</td>\n",
       "      <td>91.760000</td>\n",
       "      <td>92.110000</td>\n",
       "      <td>91.930000</td>\n",
       "      <td>91.990000</td>\n",
       "    </tr>\n",
       "    <tr>\n",
       "      <th>75%</th>\n",
       "      <td>9.000000</td>\n",
       "      <td>95.380000</td>\n",
       "      <td>95.560000</td>\n",
       "      <td>95.560000</td>\n",
       "      <td>95.560000</td>\n",
       "      <td>95.380000</td>\n",
       "      <td>95.560000</td>\n",
       "      <td>95.560000</td>\n",
       "      <td>95.380000</td>\n",
       "      <td>95.560000</td>\n",
       "      <td>95.380000</td>\n",
       "      <td>95.560000</td>\n",
       "      <td>95.560000</td>\n",
       "      <td>95.050000</td>\n",
       "    </tr>\n",
       "    <tr>\n",
       "      <th>max</th>\n",
       "      <td>11.000000</td>\n",
       "      <td>100.000000</td>\n",
       "      <td>100.000000</td>\n",
       "      <td>100.000000</td>\n",
       "      <td>100.000000</td>\n",
       "      <td>100.000000</td>\n",
       "      <td>100.000000</td>\n",
       "      <td>100.000000</td>\n",
       "      <td>100.000000</td>\n",
       "      <td>100.000000</td>\n",
       "      <td>100.000000</td>\n",
       "      <td>100.000000</td>\n",
       "      <td>100.000000</td>\n",
       "      <td>100.000000</td>\n",
       "    </tr>\n",
       "  </tbody>\n",
       "</table>\n",
       "</div>"
      ],
      "text/plain": [
       "             Bulan  Kecepatan pelayanan  \\\n",
       "count  2570.000000          2570.000000   \n",
       "mean      6.439300            90.758101   \n",
       "std       3.017855            11.371856   \n",
       "min       1.000000             0.000000   \n",
       "25%       4.000000            90.000000   \n",
       "50%       6.000000            91.685000   \n",
       "75%       9.000000            95.380000   \n",
       "max      11.000000           100.000000   \n",
       "\n",
       "       Kemudahan fungsi fungsi untuk digunakan  \\\n",
       "count                              2570.000000   \n",
       "mean                                 91.196537   \n",
       "std                                  10.163694   \n",
       "min                                   0.000000   \n",
       "25%                                  90.000000   \n",
       "50%                                  91.990000   \n",
       "75%                                  95.560000   \n",
       "max                                 100.000000   \n",
       "\n",
       "       Kemudahan nama situs untuk diingat  Kemudahan situs untuk dipahami  \\\n",
       "count                         2570.000000                     2570.000000   \n",
       "mean                            91.322401                       89.169798   \n",
       "std                             10.244177                       17.598739   \n",
       "min                              0.000000                        0.000000   \n",
       "25%                             90.000000                       90.000000   \n",
       "50%                             92.160000                       92.060000   \n",
       "75%                             95.560000                       95.560000   \n",
       "max                            100.000000                      100.000000   \n",
       "\n",
       "       Kemudahan untuk dihubungi  Kemudahan untuk dipahami  \\\n",
       "count                2570.000000               2570.000000   \n",
       "mean                   90.777977                 91.609374   \n",
       "std                    11.106859                  9.070625   \n",
       "min                     0.000000                  0.000000   \n",
       "25%                    90.000000                 90.000000   \n",
       "50%                    91.640000                 92.380000   \n",
       "75%                    95.380000                 95.560000   \n",
       "max                   100.000000                100.000000   \n",
       "\n",
       "       Kenyamanan dalam mempelajari materi  Keramahan petugas  \\\n",
       "count                          2570.000000        2570.000000   \n",
       "mean                             91.112926          90.899541   \n",
       "std                               9.975912          10.950328   \n",
       "min                               0.000000           0.000000   \n",
       "25%                              90.000000          90.000000   \n",
       "50%                              92.055000          91.795000   \n",
       "75%                              95.560000          95.380000   \n",
       "max                             100.000000         100.000000   \n",
       "\n",
       "       Manfaat terhadap tugas  Pengetahuan terhadap situs  \\\n",
       "count             2570.000000                 2570.000000   \n",
       "mean                92.330510                   90.899152   \n",
       "std                  5.845252                   10.819960   \n",
       "min                 60.000000                    0.000000   \n",
       "25%                 90.000000                   90.000000   \n",
       "50%                 92.550000                   91.760000   \n",
       "75%                 95.560000                   95.380000   \n",
       "max                100.000000                  100.000000   \n",
       "\n",
       "       Sistematika Penulisan  Tampilan situs  Final Score  \n",
       "count            2570.000000     2570.000000  2570.000000  \n",
       "mean               91.903323       91.051074    91.086257  \n",
       "std                 6.055594       10.348712     8.908971  \n",
       "min                60.000000        0.000000    13.330000  \n",
       "25%                90.000000       90.000000    90.000000  \n",
       "50%                92.110000       91.930000    91.990000  \n",
       "75%                95.560000       95.560000    95.050000  \n",
       "max               100.000000      100.000000   100.000000  "
      ]
     },
     "execution_count": 5,
     "metadata": {},
     "output_type": "execute_result"
    }
   ],
   "source": [
    "feedback_elearning.describe()"
   ]
  },
  {
   "cell_type": "code",
   "execution_count": 6,
   "metadata": {},
   "outputs": [
    {
     "name": "stdout",
     "output_type": "stream",
     "text": [
      "<class 'pandas.core.frame.DataFrame'>\n",
      "RangeIndex: 2570 entries, 0 to 2569\n",
      "Data columns (total 17 columns):\n",
      " #   Column                                   Non-Null Count  Dtype  \n",
      "---  ------                                   --------------  -----  \n",
      " 0   Bulan                                    2570 non-null   int64  \n",
      " 1   Course                                   2570 non-null   object \n",
      " 2   Category                                 2570 non-null   object \n",
      " 3   Jumlah Partisipan                        2570 non-null   object \n",
      " 4   Kecepatan pelayanan                      2570 non-null   float64\n",
      " 5   Kemudahan fungsi fungsi untuk digunakan  2570 non-null   float64\n",
      " 6   Kemudahan nama situs untuk diingat       2570 non-null   float64\n",
      " 7   Kemudahan situs untuk dipahami           2570 non-null   float64\n",
      " 8   Kemudahan untuk dihubungi                2570 non-null   float64\n",
      " 9   Kemudahan untuk dipahami                 2570 non-null   float64\n",
      " 10  Kenyamanan dalam mempelajari materi      2570 non-null   float64\n",
      " 11  Keramahan petugas                        2570 non-null   float64\n",
      " 12  Manfaat terhadap tugas                   2570 non-null   float64\n",
      " 13  Pengetahuan terhadap situs               2570 non-null   float64\n",
      " 14  Sistematika Penulisan                    2570 non-null   float64\n",
      " 15  Tampilan situs                           2570 non-null   float64\n",
      " 16  Final Score                              2570 non-null   float64\n",
      "dtypes: float64(13), int64(1), object(3)\n",
      "memory usage: 341.5+ KB\n"
     ]
    }
   ],
   "source": [
    "feedback_elearning.info()"
   ]
  },
  {
   "cell_type": "code",
   "execution_count": 7,
   "metadata": {},
   "outputs": [
    {
     "data": {
      "text/plain": [
       "Bulan                                      0\n",
       "Course                                     0\n",
       "Category                                   0\n",
       "Jumlah Partisipan                          0\n",
       "Kecepatan pelayanan                        0\n",
       "Kemudahan fungsi fungsi untuk digunakan    0\n",
       "Kemudahan nama situs untuk diingat         0\n",
       "Kemudahan situs untuk dipahami             0\n",
       "Kemudahan untuk dihubungi                  0\n",
       "Kemudahan untuk dipahami                   0\n",
       "Kenyamanan dalam mempelajari materi        0\n",
       "Keramahan petugas                          0\n",
       "Manfaat terhadap tugas                     0\n",
       "Pengetahuan terhadap situs                 0\n",
       "Sistematika Penulisan                      0\n",
       "Tampilan situs                             0\n",
       "Final Score                                0\n",
       "dtype: int64"
      ]
     },
     "execution_count": 7,
     "metadata": {},
     "output_type": "execute_result"
    }
   ],
   "source": [
    "#pengecekan jumlah data null\n",
    "feedback_elearning.isnull().sum()"
   ]
  },
  {
   "cell_type": "code",
   "execution_count": 8,
   "metadata": {},
   "outputs": [],
   "source": [
    "#change format type to numeric\n",
    "feedback_elearning['Jumlah Partisipan']=feedback_elearning['Jumlah Partisipan'].str.replace(r'\\D', '')\n",
    "feedback_elearning['Jumlah Partisipan'] = pd.to_numeric(feedback_elearning['Jumlah Partisipan'])"
   ]
  },
  {
   "cell_type": "code",
   "execution_count": 10,
   "metadata": {},
   "outputs": [
    {
     "name": "stdout",
     "output_type": "stream",
     "text": [
      "<class 'pandas.core.frame.DataFrame'>\n",
      "RangeIndex: 2570 entries, 0 to 2569\n",
      "Data columns (total 17 columns):\n",
      " #   Column                                   Non-Null Count  Dtype  \n",
      "---  ------                                   --------------  -----  \n",
      " 0   Bulan                                    2570 non-null   int64  \n",
      " 1   Course                                   2570 non-null   object \n",
      " 2   Category                                 2570 non-null   object \n",
      " 3   Jumlah Partisipan                        2570 non-null   int64  \n",
      " 4   Kecepatan pelayanan                      2570 non-null   float64\n",
      " 5   Kemudahan fungsi fungsi untuk digunakan  2570 non-null   float64\n",
      " 6   Kemudahan nama situs untuk diingat       2570 non-null   float64\n",
      " 7   Kemudahan situs untuk dipahami           2570 non-null   float64\n",
      " 8   Kemudahan untuk dihubungi                2570 non-null   float64\n",
      " 9   Kemudahan untuk dipahami                 2570 non-null   float64\n",
      " 10  Kenyamanan dalam mempelajari materi      2570 non-null   float64\n",
      " 11  Keramahan petugas                        2570 non-null   float64\n",
      " 12  Manfaat terhadap tugas                   2570 non-null   float64\n",
      " 13  Pengetahuan terhadap situs               2570 non-null   float64\n",
      " 14  Sistematika Penulisan                    2570 non-null   float64\n",
      " 15  Tampilan situs                           2570 non-null   float64\n",
      " 16  Final Score                              2570 non-null   float64\n",
      "dtypes: float64(13), int64(2), object(2)\n",
      "memory usage: 341.5+ KB\n"
     ]
    }
   ],
   "source": [
    "#cek apakah index ke-4 (Jumlah partisipan) telah berubah tipe nya\n",
    "feedback_elearning.info()"
   ]
  },
  {
   "cell_type": "code",
   "execution_count": 11,
   "metadata": {},
   "outputs": [
    {
     "data": {
      "text/plain": [
       "Index(['Bulan', 'Course', 'Category', 'Jumlah Partisipan',\n",
       "       'Kecepatan pelayanan', 'Kemudahan fungsi fungsi untuk digunakan',\n",
       "       'Kemudahan nama situs untuk diingat', 'Kemudahan situs untuk dipahami',\n",
       "       'Kemudahan untuk dihubungi', 'Kemudahan untuk dipahami',\n",
       "       'Kenyamanan dalam mempelajari materi', 'Keramahan petugas',\n",
       "       'Manfaat terhadap tugas', 'Pengetahuan terhadap situs',\n",
       "       'Sistematika Penulisan', 'Tampilan situs', 'Final Score'],\n",
       "      dtype='object')"
      ]
     },
     "execution_count": 11,
     "metadata": {},
     "output_type": "execute_result"
    }
   ],
   "source": [
    "#cek nama kolom \n",
    "feedback_elearning.columns"
   ]
  },
  {
   "cell_type": "code",
   "execution_count": 12,
   "metadata": {},
   "outputs": [
    {
     "data": {
      "text/html": [
       "<div>\n",
       "<style scoped>\n",
       "    .dataframe tbody tr th:only-of-type {\n",
       "        vertical-align: middle;\n",
       "    }\n",
       "\n",
       "    .dataframe tbody tr th {\n",
       "        vertical-align: top;\n",
       "    }\n",
       "\n",
       "    .dataframe thead th {\n",
       "        text-align: right;\n",
       "    }\n",
       "</style>\n",
       "<table border=\"1\" class=\"dataframe\">\n",
       "  <thead>\n",
       "    <tr style=\"text-align: right;\">\n",
       "      <th></th>\n",
       "      <th>Bulan</th>\n",
       "      <th>Course</th>\n",
       "      <th>Category</th>\n",
       "      <th>Jumlah Partisipan</th>\n",
       "      <th>Kecepatan pelayanan</th>\n",
       "      <th>Kemudahan fungsi fungsi untuk digunakan</th>\n",
       "      <th>Kemudahan nama situs untuk diingat</th>\n",
       "      <th>Kemudahan situs untuk dipahami</th>\n",
       "      <th>Kemudahan untuk dihubungi</th>\n",
       "      <th>Kemudahan untuk dipahami</th>\n",
       "      <th>Kenyamanan dalam mempelajari materi</th>\n",
       "      <th>Keramahan petugas</th>\n",
       "      <th>Manfaat terhadap tugas</th>\n",
       "      <th>Pengetahuan terhadap situs</th>\n",
       "      <th>Sistematika Penulisan</th>\n",
       "      <th>Tampilan situs</th>\n",
       "      <th>Final Score</th>\n",
       "    </tr>\n",
       "  </thead>\n",
       "  <tbody>\n",
       "    <tr>\n",
       "      <th>0</th>\n",
       "      <td>1</td>\n",
       "      <td>Fraud Klaim Asuransi</td>\n",
       "      <td>ADMEDIKA</td>\n",
       "      <td>1</td>\n",
       "      <td>100.00</td>\n",
       "      <td>100.00</td>\n",
       "      <td>0.00</td>\n",
       "      <td>100.00</td>\n",
       "      <td>100.00</td>\n",
       "      <td>70.00</td>\n",
       "      <td>100.00</td>\n",
       "      <td>100.00</td>\n",
       "      <td>100.00</td>\n",
       "      <td>100.00</td>\n",
       "      <td>100.00</td>\n",
       "      <td>100.00</td>\n",
       "      <td>89.17</td>\n",
       "    </tr>\n",
       "    <tr>\n",
       "      <th>1</th>\n",
       "      <td>1</td>\n",
       "      <td>Basic Procurement</td>\n",
       "      <td>Business Enabler / Enterprise Management (EL-EEM)</td>\n",
       "      <td>1</td>\n",
       "      <td>100.00</td>\n",
       "      <td>100.00</td>\n",
       "      <td>100.00</td>\n",
       "      <td>100.00</td>\n",
       "      <td>100.00</td>\n",
       "      <td>100.00</td>\n",
       "      <td>100.00</td>\n",
       "      <td>100.00</td>\n",
       "      <td>100.00</td>\n",
       "      <td>100.00</td>\n",
       "      <td>100.00</td>\n",
       "      <td>100.00</td>\n",
       "      <td>100.00</td>\n",
       "    </tr>\n",
       "    <tr>\n",
       "      <th>2</th>\n",
       "      <td>1</td>\n",
       "      <td>Paradigma Spiritual</td>\n",
       "      <td>Business Enabler / Enterprise Management (EL-EEM)</td>\n",
       "      <td>4</td>\n",
       "      <td>91.25</td>\n",
       "      <td>91.25</td>\n",
       "      <td>91.25</td>\n",
       "      <td>91.25</td>\n",
       "      <td>91.25</td>\n",
       "      <td>91.25</td>\n",
       "      <td>90.67</td>\n",
       "      <td>91.25</td>\n",
       "      <td>91.25</td>\n",
       "      <td>91.25</td>\n",
       "      <td>91.25</td>\n",
       "      <td>91.25</td>\n",
       "      <td>91.20</td>\n",
       "    </tr>\n",
       "    <tr>\n",
       "      <th>3</th>\n",
       "      <td>1</td>\n",
       "      <td>PMBOK</td>\n",
       "      <td>Business Enabler / Enterprise Management (EL-EEM)</td>\n",
       "      <td>10</td>\n",
       "      <td>88.11</td>\n",
       "      <td>87.43</td>\n",
       "      <td>89.47</td>\n",
       "      <td>88.11</td>\n",
       "      <td>89.47</td>\n",
       "      <td>88.11</td>\n",
       "      <td>86.67</td>\n",
       "      <td>88.95</td>\n",
       "      <td>91.50</td>\n",
       "      <td>89.47</td>\n",
       "      <td>87.78</td>\n",
       "      <td>88.33</td>\n",
       "      <td>88.62</td>\n",
       "    </tr>\n",
       "    <tr>\n",
       "      <th>4</th>\n",
       "      <td>1</td>\n",
       "      <td>Spiritual (Islam) Bekerja Ma allah</td>\n",
       "      <td>Business Enabler / Enterprise Management (EL-EEM)</td>\n",
       "      <td>2</td>\n",
       "      <td>90.00</td>\n",
       "      <td>90.00</td>\n",
       "      <td>90.00</td>\n",
       "      <td>90.00</td>\n",
       "      <td>90.00</td>\n",
       "      <td>90.00</td>\n",
       "      <td>90.00</td>\n",
       "      <td>90.00</td>\n",
       "      <td>90.00</td>\n",
       "      <td>90.00</td>\n",
       "      <td>90.00</td>\n",
       "      <td>90.00</td>\n",
       "      <td>90.00</td>\n",
       "    </tr>\n",
       "  </tbody>\n",
       "</table>\n",
       "</div>"
      ],
      "text/plain": [
       "   Bulan                              Course  \\\n",
       "0      1                Fraud Klaim Asuransi   \n",
       "1      1                   Basic Procurement   \n",
       "2      1                 Paradigma Spiritual   \n",
       "3      1                               PMBOK   \n",
       "4      1  Spiritual (Islam) Bekerja Ma allah   \n",
       "\n",
       "                                            Category  Jumlah Partisipan  \\\n",
       "0                                           ADMEDIKA                  1   \n",
       "1  Business Enabler / Enterprise Management (EL-EEM)                  1   \n",
       "2  Business Enabler / Enterprise Management (EL-EEM)                  4   \n",
       "3  Business Enabler / Enterprise Management (EL-EEM)                 10   \n",
       "4  Business Enabler / Enterprise Management (EL-EEM)                  2   \n",
       "\n",
       "   Kecepatan pelayanan  Kemudahan fungsi fungsi untuk digunakan  \\\n",
       "0               100.00                                   100.00   \n",
       "1               100.00                                   100.00   \n",
       "2                91.25                                    91.25   \n",
       "3                88.11                                    87.43   \n",
       "4                90.00                                    90.00   \n",
       "\n",
       "   Kemudahan nama situs untuk diingat  Kemudahan situs untuk dipahami  \\\n",
       "0                                0.00                          100.00   \n",
       "1                              100.00                          100.00   \n",
       "2                               91.25                           91.25   \n",
       "3                               89.47                           88.11   \n",
       "4                               90.00                           90.00   \n",
       "\n",
       "   Kemudahan untuk dihubungi  Kemudahan untuk dipahami  \\\n",
       "0                     100.00                     70.00   \n",
       "1                     100.00                    100.00   \n",
       "2                      91.25                     91.25   \n",
       "3                      89.47                     88.11   \n",
       "4                      90.00                     90.00   \n",
       "\n",
       "   Kenyamanan dalam mempelajari materi  Keramahan petugas  \\\n",
       "0                               100.00             100.00   \n",
       "1                               100.00             100.00   \n",
       "2                                90.67              91.25   \n",
       "3                                86.67              88.95   \n",
       "4                                90.00              90.00   \n",
       "\n",
       "   Manfaat terhadap tugas  Pengetahuan terhadap situs  Sistematika Penulisan  \\\n",
       "0                  100.00                      100.00                 100.00   \n",
       "1                  100.00                      100.00                 100.00   \n",
       "2                   91.25                       91.25                  91.25   \n",
       "3                   91.50                       89.47                  87.78   \n",
       "4                   90.00                       90.00                  90.00   \n",
       "\n",
       "   Tampilan situs  Final Score  \n",
       "0          100.00        89.17  \n",
       "1          100.00       100.00  \n",
       "2           91.25        91.20  \n",
       "3           88.33        88.62  \n",
       "4           90.00        90.00  "
      ]
     },
     "execution_count": 12,
     "metadata": {},
     "output_type": "execute_result"
    }
   ],
   "source": [
    "feedback_elearning.head()"
   ]
  },
  {
   "cell_type": "markdown",
   "metadata": {},
   "source": [
    "### Measures of Central Tendency"
   ]
  },
  {
   "cell_type": "markdown",
   "metadata": {},
   "source": [
    "#### MEAN"
   ]
  },
  {
   "cell_type": "code",
   "execution_count": 78,
   "metadata": {},
   "outputs": [
    {
     "data": {
      "text/plain": [
       "0       100.00\n",
       "1       100.00\n",
       "2        91.25\n",
       "3        88.33\n",
       "4        90.00\n",
       "         ...  \n",
       "2565     91.68\n",
       "2566     96.15\n",
       "2567     91.15\n",
       "2568     91.00\n",
       "2569     90.69\n",
       "Name: Tampilan situs, Length: 2570, dtype: float64"
      ]
     },
     "execution_count": 78,
     "metadata": {},
     "output_type": "execute_result"
    }
   ],
   "source": [
    "#nilai mean pada Kolom \"tampilan situs\"\n",
    "tampilan_situs = feedback_elearning['Tampilan situs']\n",
    "tampilan_situs_numpy = np.array(tampilan_situs)\n",
    "tampilan_situs_pandas = pd.Series(tampilan_situs)\n",
    "tampilan_situs"
   ]
  },
  {
   "cell_type": "code",
   "execution_count": 79,
   "metadata": {},
   "outputs": [
    {
     "data": {
      "text/plain": [
       "91.05107392996118"
      ]
     },
     "execution_count": 79,
     "metadata": {},
     "output_type": "execute_result"
    }
   ],
   "source": [
    "mean_tampilan_situs_general = sum(tampilan_situs)/len(tampilan_situs)\n",
    "mean_tampilan_situs_general"
   ]
  },
  {
   "cell_type": "code",
   "execution_count": 80,
   "metadata": {},
   "outputs": [
    {
     "data": {
      "text/plain": [
       "91.05107392996109"
      ]
     },
     "execution_count": 80,
     "metadata": {},
     "output_type": "execute_result"
    }
   ],
   "source": [
    "#nilai mean menggunakan scipy\n",
    "mean_tampilan_situs_scipy = statistics.mean(tampilan_situs)\n",
    "mean_tampilan_situs_scipy"
   ]
  },
  {
   "cell_type": "code",
   "execution_count": 81,
   "metadata": {},
   "outputs": [
    {
     "data": {
      "text/plain": [
       "91.05107392996109"
      ]
     },
     "execution_count": 81,
     "metadata": {},
     "output_type": "execute_result"
    }
   ],
   "source": [
    "#nilai mean menggunakan numpy\n",
    "mean_tampilan_situs_numpy = np.mean(tampilan_situs_numpy)\n",
    "mean_tampilan_situs_numpy"
   ]
  },
  {
   "cell_type": "code",
   "execution_count": 82,
   "metadata": {},
   "outputs": [
    {
     "data": {
      "text/plain": [
       "91.05107392996118"
      ]
     },
     "execution_count": 82,
     "metadata": {},
     "output_type": "execute_result"
    }
   ],
   "source": [
    "#nilai mean menggunakan pandas\n",
    "tampilan_situs_pandas.mean()"
   ]
  },
  {
   "cell_type": "markdown",
   "metadata": {},
   "source": [
    "#### MEDIAN"
   ]
  },
  {
   "cell_type": "code",
   "execution_count": 83,
   "metadata": {},
   "outputs": [
    {
     "data": {
      "text/plain": [
       "0       100.00\n",
       "1       100.00\n",
       "2        91.25\n",
       "3        88.33\n",
       "4        90.00\n",
       "         ...  \n",
       "2565     91.68\n",
       "2566     96.15\n",
       "2567     91.15\n",
       "2568     91.00\n",
       "2569     90.69\n",
       "Name: Tampilan situs, Length: 2570, dtype: float64"
      ]
     },
     "execution_count": 83,
     "metadata": {},
     "output_type": "execute_result"
    }
   ],
   "source": [
    "tampilan_situs"
   ]
  },
  {
   "cell_type": "code",
   "execution_count": 84,
   "metadata": {},
   "outputs": [
    {
     "data": {
      "text/plain": [
       "91.93"
      ]
     },
     "execution_count": 84,
     "metadata": {},
     "output_type": "execute_result"
    }
   ],
   "source": [
    "statistics.median_low(tampilan_situs[:-1])"
   ]
  },
  {
   "cell_type": "code",
   "execution_count": 85,
   "metadata": {},
   "outputs": [
    {
     "data": {
      "text/plain": [
       "91.93"
      ]
     },
     "execution_count": 85,
     "metadata": {},
     "output_type": "execute_result"
    }
   ],
   "source": [
    "statistics.median_high(tampilan_situs[:-1])"
   ]
  },
  {
   "cell_type": "code",
   "execution_count": 86,
   "metadata": {},
   "outputs": [
    {
     "data": {
      "text/plain": [
       "91.93"
      ]
     },
     "execution_count": 86,
     "metadata": {},
     "output_type": "execute_result"
    }
   ],
   "source": [
    "statistics.median(tampilan_situs[:-1])"
   ]
  },
  {
   "cell_type": "markdown",
   "metadata": {},
   "source": [
    "#### MODUS"
   ]
  },
  {
   "cell_type": "code",
   "execution_count": 87,
   "metadata": {},
   "outputs": [
    {
     "data": {
      "text/plain": [
       "91.93"
      ]
     },
     "execution_count": 87,
     "metadata": {},
     "output_type": "execute_result"
    }
   ],
   "source": [
    "#nilai modus versi numpy\n",
    "\n",
    "np.median(tampilan_situs)"
   ]
  },
  {
   "cell_type": "code",
   "execution_count": 88,
   "metadata": {},
   "outputs": [
    {
     "data": {
      "text/plain": [
       "90.0"
      ]
     },
     "execution_count": 88,
     "metadata": {},
     "output_type": "execute_result"
    }
   ],
   "source": [
    "statistics.mode(tampilan_situs)"
   ]
  },
  {
   "cell_type": "code",
   "execution_count": 89,
   "metadata": {},
   "outputs": [
    {
     "data": {
      "text/plain": [
       "ModeResult(mode=array([90.]), count=array([409]))"
      ]
     },
     "execution_count": 89,
     "metadata": {},
     "output_type": "execute_result"
    }
   ],
   "source": [
    "#nilai modus versi scipy (muncul counternya)\n",
    "\n",
    "scipy.stats.mode(tampilan_situs)"
   ]
  },
  {
   "cell_type": "code",
   "execution_count": 90,
   "metadata": {},
   "outputs": [
    {
     "data": {
      "text/plain": [
       "0    90.0\n",
       "dtype: float64"
      ]
     },
     "execution_count": 90,
     "metadata": {},
     "output_type": "execute_result"
    }
   ],
   "source": [
    "#nilai modus versi pandas\n",
    "tampilan_situs_pandas.mode()"
   ]
  },
  {
   "cell_type": "markdown",
   "metadata": {},
   "source": [
    "### Measures of Variability (Spread)\n"
   ]
  },
  {
   "cell_type": "markdown",
   "metadata": {},
   "source": [
    "#### Range"
   ]
  },
  {
   "cell_type": "code",
   "execution_count": 103,
   "metadata": {},
   "outputs": [
    {
     "data": {
      "text/plain": [
       "100.0"
      ]
     },
     "execution_count": 103,
     "metadata": {},
     "output_type": "execute_result"
    }
   ],
   "source": [
    "#pandas\n",
    "np.ptp(tampilan_situs_pandas)"
   ]
  },
  {
   "cell_type": "code",
   "execution_count": 104,
   "metadata": {},
   "outputs": [
    {
     "data": {
      "text/plain": [
       "100.0"
      ]
     },
     "execution_count": 104,
     "metadata": {},
     "output_type": "execute_result"
    }
   ],
   "source": [
    "#numpy\n",
    "np.ptp(tampilan_situs_numpy)"
   ]
  },
  {
   "cell_type": "code",
   "execution_count": 105,
   "metadata": {},
   "outputs": [
    {
     "data": {
      "text/plain": [
       "100.0"
      ]
     },
     "execution_count": 105,
     "metadata": {},
     "output_type": "execute_result"
    }
   ],
   "source": [
    "#range pada kolom tampilan situs\n",
    "np.ptp(tampilan_situs)\n"
   ]
  },
  {
   "cell_type": "markdown",
   "metadata": {},
   "source": [
    "#### Variance"
   ]
  },
  {
   "cell_type": "code",
   "execution_count": 113,
   "metadata": {},
   "outputs": [
    {
     "data": {
      "text/plain": [
       "107.095835592041"
      ]
     },
     "execution_count": 113,
     "metadata": {},
     "output_type": "execute_result"
    }
   ],
   "source": [
    "#scipy\n",
    "statistics.variance(tampilan_situs)"
   ]
  },
  {
   "cell_type": "code",
   "execution_count": 114,
   "metadata": {},
   "outputs": [
    {
     "data": {
      "text/plain": [
       "107.09583559204076"
      ]
     },
     "execution_count": 114,
     "metadata": {},
     "output_type": "execute_result"
    }
   ],
   "source": [
    "#numpy\n",
    "np.var(tampilan_situs, ddof=1)"
   ]
  },
  {
   "cell_type": "code",
   "execution_count": 115,
   "metadata": {
    "scrolled": true
   },
   "outputs": [
    {
     "data": {
      "text/plain": [
       "107.09583559204076"
      ]
     },
     "execution_count": 115,
     "metadata": {},
     "output_type": "execute_result"
    }
   ],
   "source": [
    "#pandas\n",
    "tampilan_situs_pandas.var(ddof=1)"
   ]
  },
  {
   "cell_type": "markdown",
   "metadata": {},
   "source": [
    "#### Standard Deviation"
   ]
  },
  {
   "cell_type": "code",
   "execution_count": 116,
   "metadata": {},
   "outputs": [
    {
     "data": {
      "text/plain": [
       "10.348711784180725"
      ]
     },
     "execution_count": 116,
     "metadata": {},
     "output_type": "execute_result"
    }
   ],
   "source": [
    "#scipy\n",
    "statistics.stdev(tampilan_situs)"
   ]
  },
  {
   "cell_type": "code",
   "execution_count": 117,
   "metadata": {},
   "outputs": [
    {
     "data": {
      "text/plain": [
       "10.348711784180724"
      ]
     },
     "execution_count": 117,
     "metadata": {},
     "output_type": "execute_result"
    }
   ],
   "source": [
    "#numpy\n",
    "np.std(tampilan_situs_numpy,ddof=1)"
   ]
  },
  {
   "cell_type": "code",
   "execution_count": 118,
   "metadata": {},
   "outputs": [
    {
     "data": {
      "text/plain": [
       "10.348711784180713"
      ]
     },
     "execution_count": 118,
     "metadata": {},
     "output_type": "execute_result"
    }
   ],
   "source": [
    "#pandas\n",
    "tampilan_situs_pandas.std(ddof=1)"
   ]
  },
  {
   "cell_type": "markdown",
   "metadata": {},
   "source": [
    "### Probability Distribution"
   ]
  },
  {
   "cell_type": "code",
   "execution_count": 128,
   "metadata": {},
   "outputs": [
    {
     "data": {
      "text/plain": [
       "<matplotlib.axes._subplots.AxesSubplot at 0x7f909450ae50>"
      ]
     },
     "execution_count": 128,
     "metadata": {},
     "output_type": "execute_result"
    },
    {
     "data": {
      "image/png": "[encoded data removed]",
      "text/plain": [
       "<Figure size 432x288 with 1 Axes>"
      ]
     },
     "metadata": {
      "needs_background": "light"
     },
     "output_type": "display_data"
    }
   ],
   "source": [
    "#normal distribution\n",
    "tampilan_situs_pandas.plot.kde(bw_method=0.8)"
   ]
  },
  {
   "cell_type": "markdown",
   "metadata": {},
   "source": [
    "### Confidence Interval"
   ]
  },
  {
   "cell_type": "code",
   "execution_count": 140,
   "metadata": {},
   "outputs": [
    {
     "name": "stdout",
     "output_type": "stream",
     "text": [
      "<class 'pandas.core.frame.DataFrame'>\n",
      "RangeIndex: 2570 entries, 0 to 2569\n",
      "Data columns (total 17 columns):\n",
      " #   Column                                   Non-Null Count  Dtype  \n",
      "---  ------                                   --------------  -----  \n",
      " 0   Bulan                                    2570 non-null   int64  \n",
      " 1   Course                                   2570 non-null   object \n",
      " 2   Category                                 2570 non-null   object \n",
      " 3   Jumlah Partisipan                        2570 non-null   object \n",
      " 4   Kecepatan pelayanan                      2570 non-null   float64\n",
      " 5   Kemudahan fungsi fungsi untuk digunakan  2570 non-null   float64\n",
      " 6   Kemudahan nama situs untuk diingat       2570 non-null   float64\n",
      " 7   Kemudahan situs untuk dipahami           2570 non-null   float64\n",
      " 8   Kemudahan untuk dihubungi                2570 non-null   float64\n",
      " 9   Kemudahan untuk dipahami                 2570 non-null   float64\n",
      " 10  Kenyamanan dalam mempelajari materi      2570 non-null   float64\n",
      " 11  Keramahan petugas                        2570 non-null   float64\n",
      " 12  Manfaat terhadap tugas                   2570 non-null   float64\n",
      " 13  Pengetahuan terhadap situs               2570 non-null   float64\n",
      " 14  Sistematika Penulisan                    2570 non-null   float64\n",
      " 15  Tampilan situs                           2570 non-null   float64\n",
      " 16  Final Score                              2570 non-null   float64\n",
      "dtypes: float64(13), int64(1), object(3)\n",
      "memory usage: 341.5+ KB\n"
     ]
    }
   ],
   "source": [
    "feedback_elearning_CI = pd.read_csv('dataset/Feedback_ELearn_2020.csv')\n",
    "feedback_elearning_CI.head()\n",
    "feedback_elearning_CI.info()"
   ]
  },
  {
   "cell_type": "code",
   "execution_count": 143,
   "metadata": {},
   "outputs": [
    {
     "data": {
      "text/html": [
       "<div>\n",
       "<style scoped>\n",
       "    .dataframe tbody tr th:only-of-type {\n",
       "        vertical-align: middle;\n",
       "    }\n",
       "\n",
       "    .dataframe tbody tr th {\n",
       "        vertical-align: top;\n",
       "    }\n",
       "\n",
       "    .dataframe thead tr th {\n",
       "        text-align: left;\n",
       "    }\n",
       "\n",
       "    .dataframe thead tr:last-of-type th {\n",
       "        text-align: right;\n",
       "    }\n",
       "</style>\n",
       "<table border=\"1\" class=\"dataframe\">\n",
       "  <thead>\n",
       "    <tr>\n",
       "      <th></th>\n",
       "      <th colspan=\"3\" halign=\"left\">Tampilan situs</th>\n",
       "    </tr>\n",
       "    <tr>\n",
       "      <th></th>\n",
       "      <th>mean</th>\n",
       "      <th>std</th>\n",
       "      <th>size</th>\n",
       "    </tr>\n",
       "    <tr>\n",
       "      <th>Category</th>\n",
       "      <th></th>\n",
       "      <th></th>\n",
       "      <th></th>\n",
       "    </tr>\n",
       "  </thead>\n",
       "  <tbody>\n",
       "    <tr>\n",
       "      <th>ADMEDIKA</th>\n",
       "      <td>80.154468</td>\n",
       "      <td>16.778126</td>\n",
       "      <td>47.0</td>\n",
       "    </tr>\n",
       "    <tr>\n",
       "      <th>Business Enabler / Enterprise Management (EL-EEM)</th>\n",
       "      <td>89.707755</td>\n",
       "      <td>14.131008</td>\n",
       "      <td>147.0</td>\n",
       "    </tr>\n",
       "    <tr>\n",
       "      <th>CLASSICAL SUPPORT</th>\n",
       "      <td>92.850870</td>\n",
       "      <td>4.249967</td>\n",
       "      <td>23.0</td>\n",
       "    </tr>\n",
       "    <tr>\n",
       "      <th>Commerce &amp; Relations (EL-COR)</th>\n",
       "      <td>91.655081</td>\n",
       "      <td>10.187793</td>\n",
       "      <td>246.0</td>\n",
       "    </tr>\n",
       "    <tr>\n",
       "      <th>Digital &amp; ICT (EL-DIC)</th>\n",
       "      <td>92.017029</td>\n",
       "      <td>7.777292</td>\n",
       "      <td>1067.0</td>\n",
       "    </tr>\n",
       "    <tr>\n",
       "      <th>General (EL-GNR)</th>\n",
       "      <td>90.326221</td>\n",
       "      <td>13.642919</td>\n",
       "      <td>696.0</td>\n",
       "    </tr>\n",
       "    <tr>\n",
       "      <th>Profressional (EL-PRO)</th>\n",
       "      <td>89.805000</td>\n",
       "      <td>2.884783</td>\n",
       "      <td>8.0</td>\n",
       "    </tr>\n",
       "    <tr>\n",
       "      <th>Risk &amp; Compliance (EL-RIC)</th>\n",
       "      <td>91.190526</td>\n",
       "      <td>4.315043</td>\n",
       "      <td>19.0</td>\n",
       "    </tr>\n",
       "    <tr>\n",
       "      <th>SIGMA</th>\n",
       "      <td>75.420000</td>\n",
       "      <td>4.206923</td>\n",
       "      <td>6.0</td>\n",
       "    </tr>\n",
       "    <tr>\n",
       "      <th>SSI</th>\n",
       "      <td>91.805000</td>\n",
       "      <td>3.546237</td>\n",
       "      <td>8.0</td>\n",
       "    </tr>\n",
       "    <tr>\n",
       "      <th>Strategic Plan &amp; Development (EL-SPD)</th>\n",
       "      <td>91.915000</td>\n",
       "      <td>4.780524</td>\n",
       "      <td>20.0</td>\n",
       "    </tr>\n",
       "    <tr>\n",
       "      <th>TELKOMSEL</th>\n",
       "      <td>91.390000</td>\n",
       "      <td>3.808641</td>\n",
       "      <td>5.0</td>\n",
       "    </tr>\n",
       "    <tr>\n",
       "      <th>Top &amp; New Courses</th>\n",
       "      <td>91.301259</td>\n",
       "      <td>3.509519</td>\n",
       "      <td>278.0</td>\n",
       "    </tr>\n",
       "  </tbody>\n",
       "</table>\n",
       "</div>"
      ],
      "text/plain": [
       "                                                  Tampilan situs             \\\n",
       "                                                            mean        std   \n",
       "Category                                                                      \n",
       "ADMEDIKA                                               80.154468  16.778126   \n",
       "Business Enabler / Enterprise Management (EL-EEM)      89.707755  14.131008   \n",
       "CLASSICAL SUPPORT                                      92.850870   4.249967   \n",
       "Commerce & Relations (EL-COR)                          91.655081  10.187793   \n",
       "Digital & ICT (EL-DIC)                                 92.017029   7.777292   \n",
       "General (EL-GNR)                                       90.326221  13.642919   \n",
       "Profressional (EL-PRO)                                 89.805000   2.884783   \n",
       "Risk & Compliance (EL-RIC)                             91.190526   4.315043   \n",
       "SIGMA                                                  75.420000   4.206923   \n",
       "SSI                                                    91.805000   3.546237   \n",
       "Strategic Plan & Development (EL-SPD)                  91.915000   4.780524   \n",
       "TELKOMSEL                                              91.390000   3.808641   \n",
       "Top & New Courses                                      91.301259   3.509519   \n",
       "\n",
       "                                                           \n",
       "                                                     size  \n",
       "Category                                                   \n",
       "ADMEDIKA                                             47.0  \n",
       "Business Enabler / Enterprise Management (EL-EEM)   147.0  \n",
       "CLASSICAL SUPPORT                                    23.0  \n",
       "Commerce & Relations (EL-COR)                       246.0  \n",
       "Digital & ICT (EL-DIC)                             1067.0  \n",
       "General (EL-GNR)                                    696.0  \n",
       "Profressional (EL-PRO)                                8.0  \n",
       "Risk & Compliance (EL-RIC)                           19.0  \n",
       "SIGMA                                                 6.0  \n",
       "SSI                                                   8.0  \n",
       "Strategic Plan & Development (EL-SPD)                20.0  \n",
       "TELKOMSEL                                             5.0  \n",
       "Top & New Courses                                   278.0  "
      ]
     },
     "execution_count": 143,
     "metadata": {},
     "output_type": "execute_result"
    }
   ],
   "source": [
    "#feedback_elearning_CI.groupby('Category').agg({'t':[np.mean, np.std, np.size]})\n",
    "feedback_elearning_CI.groupby('Category').agg({'Tampilan situs':[np.mean, np.std, np.size]})"
   ]
  },
  {
   "cell_type": "code",
   "execution_count": 144,
   "metadata": {},
   "outputs": [],
   "source": [
    "#kita ambil kategori \"Top & New Courses\"\n",
    "mean = 91.30\n",
    "sd = 3.50\n",
    "n = 278\n",
    "\n",
    "#nilai z ditentukan\n",
    "z_score= 1.96"
   ]
  },
  {
   "cell_type": "code",
   "execution_count": 146,
   "metadata": {},
   "outputs": [
    {
     "data": {
      "text/plain": [
       "0.20991605036642352"
      ]
     },
     "execution_count": 146,
     "metadata": {},
     "output_type": "execute_result"
    }
   ],
   "source": [
    "se = sd / np.sqrt(n)\n",
    "se"
   ]
  },
  {
   "cell_type": "code",
   "execution_count": 148,
   "metadata": {},
   "outputs": [],
   "source": [
    "low = mean - z_score*se\n",
    "hi = mean +z_score*se"
   ]
  },
  {
   "cell_type": "code",
   "execution_count": 149,
   "metadata": {},
   "outputs": [
    {
     "data": {
      "text/plain": [
       "(90.88856454128181, 91.71143545871819)"
      ]
     },
     "execution_count": 149,
     "metadata": {},
     "output_type": "execute_result"
    }
   ],
   "source": [
    "(low,hi)"
   ]
  },
  {
   "cell_type": "code",
   "execution_count": null,
   "metadata": {},
   "outputs": [],
   "source": []
  }
 ],
 "metadata": {
  "kernelspec": {
   "display_name": "Python 3",
   "language": "python",
   "name": "python3"
  },
  "language_info": {
   "codemirror_mode": {
    "name": "ipython",
    "version": 3
   },
   "file_extension": ".py",
   "mimetype": "text/x-python",
   "name": "python",
   "nbconvert_exporter": "python",
   "pygments_lexer": "ipython3",
   "version": "3.8.3"
  }
 },
 "nbformat": 4,
 "nbformat_minor": 4
}
